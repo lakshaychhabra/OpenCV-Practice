{
 "cells": [
  {
   "cell_type": "markdown",
   "metadata": {},
   "source": [
    "# Breast Cancer Classification\n",
    "Dataset : https://www.kaggle.com/paultimothymooney/breast-histopathology-images <br>"
   ]
  },
  {
   "cell_type": "markdown",
   "metadata": {},
   "source": [
    "\n"
   ]
  },
  {
   "cell_type": "code",
   "execution_count": 1,
   "metadata": {},
   "outputs": [],
   "source": [
    "import os\n",
    "import numpy as np\n",
    "from imutils import paths\n",
    "import random\n",
    "import shutil\n",
    "import matplotlib.pyplot as plt\n",
    "import matplotlib.image as mpimg\n",
    "import seaborn as sns\n",
    "import warnings\n",
    "warnings.filterwarnings(\"ignore\")"
   ]
  },
  {
   "cell_type": "code",
   "execution_count": 2,
   "metadata": {},
   "outputs": [
    {
     "name": "stderr",
     "output_type": "stream",
     "text": [
      "Using TensorFlow backend.\n"
     ]
    }
   ],
   "source": [
    "from keras.models import Sequential\n",
    "from keras.layers.normalization import BatchNormalization\n",
    "from keras.layers.convolutional import SeparableConv2D\n",
    "from keras.layers.convolutional import MaxPooling2D\n",
    "from keras.layers.core import Activation\n",
    "from keras.layers.core import Flatten\n",
    "from keras.layers.core import Dropout\n",
    "from keras.layers.core import Dense\n",
    "from keras import backend as K\n",
    "from keras.preprocessing.image import ImageDataGenerator\n",
    "from keras.callbacks import LearningRateScheduler, ModelCheckpoint\n",
    "from keras.optimizers import Adagrad\n",
    "from keras.utils import np_utils\n",
    "from sklearn.metrics import classification_report\n",
    "from sklearn.metrics import confusion_matrix"
   ]
  },
  {
   "cell_type": "code",
   "execution_count": 3,
   "metadata": {},
   "outputs": [],
   "source": [
    "#  Configuration\n",
    "ORIG_INPUT_DATASET = \"orig\"\n",
    " \n",
    "# initialize the base path to the *new* directory that will contain\n",
    "# our images after computing the training and testing split\n",
    "BASE_PATH = \"datasets\"\n",
    " \n",
    "# derive the training, validation, and testing directories\n",
    "TRAIN_PATH = os.path.sep.join([BASE_PATH, \"training\"])\n",
    "VAL_PATH = os.path.sep.join([BASE_PATH, \"validation\"])\n",
    "TEST_PATH = os.path.sep.join([BASE_PATH, \"testing\"])\n",
    " \n",
    "# define the amount of data that will be used training\n",
    "TRAIN_SPLIT = 0.8\n",
    " \n",
    "# the amount of validation data will be a percentage of the\n",
    "# *training* data\n",
    "VAL_SPLIT = 0.1"
   ]
  },
  {
   "cell_type": "code",
   "execution_count": 4,
   "metadata": {},
   "outputs": [],
   "source": [
    "# grab the paths to all input images in the original input directory\n",
    "# and shuffle them\n",
    "imagePaths = list(paths.list_images(ORIG_INPUT_DATASET))\n",
    "random.seed(42)\n",
    "random.shuffle(imagePaths)\n",
    " \n",
    "# compute the training and testing split\n",
    "i = int(len(imagePaths) * TRAIN_SPLIT)\n",
    "trainPaths = imagePaths[:i]\n",
    "testPaths = imagePaths[i:]\n",
    " \n",
    "# we'll be using part of the training data for validation\n",
    "i = int(len(trainPaths) * VAL_SPLIT)\n",
    "valPaths = trainPaths[:i]\n",
    "trainPaths = trainPaths[i:]\n",
    " \n",
    "# define the datasets that we'll be building\n",
    "datasets = [\n",
    "    (\"training\", trainPaths, TRAIN_PATH),\n",
    "    (\"validation\", valPaths, VAL_PATH),\n",
    "    (\"testing\", testPaths, TEST_PATH)\n",
    "]"
   ]
  },
  {
   "cell_type": "code",
   "execution_count": 5,
   "metadata": {},
   "outputs": [
    {
     "name": "stdout",
     "output_type": "stream",
     "text": [
      "[INFO] building 'training' split\n",
      "[INFO] 'creating datasets/training' directory\n",
      "[INFO] 'creating datasets/training/0' directory\n",
      "[INFO] 'creating datasets/training/1' directory\n",
      "[INFO] building 'validation' split\n",
      "[INFO] 'creating datasets/validation' directory\n",
      "[INFO] 'creating datasets/validation/1' directory\n",
      "[INFO] 'creating datasets/validation/0' directory\n",
      "[INFO] building 'testing' split\n",
      "[INFO] 'creating datasets/testing' directory\n",
      "[INFO] 'creating datasets/testing/0' directory\n",
      "[INFO] 'creating datasets/testing/1' directory\n"
     ]
    }
   ],
   "source": [
    "# loop over the datasets\n",
    "for (dType, imagePaths, baseOutput) in datasets:\n",
    "    # show which data split we are creating\n",
    "    print(\"[INFO] building '{}' split\".format(dType))\n",
    "\n",
    "    # if the output base output directory does not exist, create it\n",
    "    if not os.path.exists(baseOutput):\n",
    "        print(\"[INFO] 'creating {}' directory\".format(baseOutput))\n",
    "        os.makedirs(baseOutput)\n",
    "\n",
    "    # loop over the input image paths\n",
    "    for inputPath in imagePaths:\n",
    "        # extract the filename of the input image and extract the\n",
    "        # class label (\"0\" for \"negative\" and \"1\" for \"positive\")\n",
    "        filename = inputPath.split(os.path.sep)[-1]\n",
    "        label = filename[-5:-4]\n",
    "\n",
    "        # build the path to the label directory\n",
    "        labelPath = os.path.sep.join([baseOutput, label])\n",
    "\n",
    "        # if the label output directory does not exist, create it\n",
    "        if not os.path.exists(labelPath):\n",
    "            print(\"[INFO] 'creating {}' directory\".format(labelPath))\n",
    "            os.makedirs(labelPath)\n",
    "\n",
    "        # construct the path to the destination image and then copy\n",
    "        # the image itself\n",
    "        p = os.path.sep.join([labelPath, filename])\n",
    "        shutil.copy2(inputPath, p)"
   ]
  },
  {
   "cell_type": "code",
   "execution_count": null,
   "metadata": {},
   "outputs": [],
   "source": [
    "# directory=os.listdir('datasets/testing/1')\n",
    "# for each in directory:\n",
    "#     plt.figure()\n",
    "#     currentFolder = \"dataset/\" + each + \"/\"\n",
    "#     print(currentFolder)\n",
    "#     plt.figure(figsize=(15,10))\n",
    "#     for i, file in enumerate(os.listdir(currentFolder)[0:5]):\n",
    "#         fullpath = currentFolder + file\n",
    "#         img=mpimg.imread(fullpath)\n",
    "#         plt.subplot(2, 5, i+1)\n",
    "#         plt.imshow(img)"
   ]
  },
  {
   "cell_type": "code",
   "execution_count": 10,
   "metadata": {},
   "outputs": [],
   "source": [
    "def build(width, height, depth, classes):\n",
    "        # initialize the model along with the input shape to be\n",
    "        # \"channels last\" and the channels dimension itself\n",
    "        model = Sequential()\n",
    "        inputShape = (height, width, depth)\n",
    "        chanDim = -1\n",
    "\n",
    "        # if we are using \"channels first\", update the input shape\n",
    "        # and channels dimension\n",
    "        if K.image_data_format() == \"channels_first\":\n",
    "            inputShape = (depth, height, width)\n",
    "            chanDim = 1\n",
    "            # CONV => RELU => POOL\n",
    "        model.add(SeparableConv2D(32, (3, 3), padding=\"same\",\n",
    "            input_shape=inputShape))\n",
    "        model.add(Activation(\"relu\"))\n",
    "        model.add(BatchNormalization(axis=chanDim))\n",
    "        model.add(MaxPooling2D(pool_size=(2, 2)))\n",
    "        model.add(Dropout(0.25))\n",
    "\n",
    "        # (CONV => RELU => POOL) * 2\n",
    "        model.add(SeparableConv2D(64, (3, 3), padding=\"same\"))\n",
    "        model.add(Activation(\"relu\"))\n",
    "        model.add(BatchNormalization(axis=chanDim))\n",
    "        model.add(SeparableConv2D(64, (3, 3), padding=\"same\"))\n",
    "        model.add(Activation(\"relu\"))\n",
    "        model.add(BatchNormalization(axis=chanDim))\n",
    "        model.add(MaxPooling2D(pool_size=(2, 2)))\n",
    "        model.add(Dropout(0.25))\n",
    "\n",
    "        # (CONV => RELU => POOL) * 3\n",
    "        model.add(SeparableConv2D(128, (3, 3), padding=\"same\"))\n",
    "        model.add(Activation(\"relu\"))\n",
    "        model.add(BatchNormalization(axis=chanDim))\n",
    "        model.add(SeparableConv2D(128, (3, 3), padding=\"same\"))\n",
    "        model.add(Activation(\"relu\"))\n",
    "        model.add(BatchNormalization(axis=chanDim))\n",
    "        model.add(SeparableConv2D(128, (3, 3), padding=\"same\"))\n",
    "        model.add(Activation(\"relu\"))\n",
    "        model.add(BatchNormalization(axis=chanDim))\n",
    "        model.add(MaxPooling2D(pool_size=(2, 2)))\n",
    "        model.add(Dropout(0.25))\n",
    "        # first (and only) set of FC => RELU layers\n",
    "        model.add(Flatten())\n",
    "        model.add(Dense(256))\n",
    "        model.add(Activation(\"relu\"))\n",
    "        model.add(BatchNormalization())\n",
    "        model.add(Dropout(0.5))\n",
    "\n",
    "        # softmax classifier\n",
    "        model.add(Dense(classes))\n",
    "        model.add(Activation(\"softmax\"))\n",
    "\n",
    "        # return the constructed network architecture\n",
    "        return model"
   ]
  },
  {
   "cell_type": "code",
   "execution_count": 12,
   "metadata": {},
   "outputs": [],
   "source": [
    "# initialize our number of epochs, initial learning rate, and batch\n",
    "# size\n",
    "NUM_EPOCHS = 40\n",
    "INIT_LR = 1e-2\n",
    "BS = 32\n",
    " \n",
    "# determine the total number of image paths in training, validation,\n",
    "# and testing directories\n",
    "trainPaths = list(paths.list_images(TRAIN_PATH))\n",
    "totalTrain = len(trainPaths)\n",
    "totalVal = len(list(paths.list_images(VAL_PATH)))\n",
    "totalTest = len(list(paths.list_images(TEST_PATH)))\n",
    " \n",
    "# account for skew in the labeled data\n",
    "trainLabels = [int(p.split(os.path.sep)[-2]) for p in trainPaths]\n",
    "trainLabels = np_utils.to_categorical(trainLabels)\n",
    "classTotals = trainLabels.sum(axis=0)\n",
    "classWeight = classTotals.max() / classTotals"
   ]
  },
  {
   "cell_type": "code",
   "execution_count": 13,
   "metadata": {},
   "outputs": [],
   "source": [
    "# initialize the training data augmentation object\n",
    "trainAug = ImageDataGenerator(\n",
    "    rescale=1 / 255.0,\n",
    "    rotation_range=20,\n",
    "    zoom_range=0.05,\n",
    "    width_shift_range=0.1,\n",
    "    height_shift_range=0.1,\n",
    "    shear_range=0.05,\n",
    "    horizontal_flip=True,\n",
    "    vertical_flip=True,\n",
    "    fill_mode=\"nearest\")\n",
    "\n",
    "# initialize the validation (and testing) data augmentation object\n",
    "valAug = ImageDataGenerator(rescale=1 / 255.0)"
   ]
  },
  {
   "cell_type": "code",
   "execution_count": 14,
   "metadata": {},
   "outputs": [
    {
     "name": "stdout",
     "output_type": "stream",
     "text": [
      "Found 255971 images belonging to 2 classes.\n",
      "Found 42611 images belonging to 2 classes.\n",
      "Found 99967 images belonging to 2 classes.\n"
     ]
    }
   ],
   "source": [
    "trainGen = trainAug.flow_from_directory(\n",
    "    TRAIN_PATH,\n",
    "    class_mode=\"categorical\",\n",
    "    target_size=(48, 48),\n",
    "    color_mode=\"rgb\",\n",
    "    shuffle=True,\n",
    "    batch_size=BS)\n",
    "\n",
    "# initialize the validation generator\n",
    "valGen = valAug.flow_from_directory(\n",
    "    VAL_PATH,\n",
    "    class_mode=\"categorical\",\n",
    "    target_size=(48, 48),\n",
    "    color_mode=\"rgb\",\n",
    "    shuffle=False,\n",
    "    batch_size=BS)\n",
    "\n",
    "# initialize the testing generator\n",
    "testGen = valAug.flow_from_directory(\n",
    "    TEST_PATH,\n",
    "    class_mode=\"categorical\",\n",
    "    target_size=(48, 48),\n",
    "    color_mode=\"rgb\",\n",
    "    shuffle=False,\n",
    "    batch_size=BS)"
   ]
  },
  {
   "cell_type": "code",
   "execution_count": 15,
   "metadata": {},
   "outputs": [],
   "source": [
    "checkpoint = ModelCheckpoint(\"weights{epoch:03d}.h5\", monitor='val_acc', verbose=1, save_best_only=True, mode='max')"
   ]
  },
  {
   "cell_type": "code",
   "execution_count": 16,
   "metadata": {
    "scrolled": false
   },
   "outputs": [
    {
     "name": "stderr",
     "output_type": "stream",
     "text": [
      "WARNING: Logging before flag parsing goes to stderr.\n",
      "W1029 14:38:36.639047 140620825626368 deprecation_wrapper.py:119] From /usr/local/lib/python3.5/dist-packages/keras/backend/tensorflow_backend.py:74: The name tf.get_default_graph is deprecated. Please use tf.compat.v1.get_default_graph instead.\n",
      "\n",
      "W1029 14:38:36.868456 140620825626368 deprecation_wrapper.py:119] From /usr/local/lib/python3.5/dist-packages/keras/backend/tensorflow_backend.py:517: The name tf.placeholder is deprecated. Please use tf.compat.v1.placeholder instead.\n",
      "\n",
      "W1029 14:38:36.974891 140620825626368 deprecation_wrapper.py:119] From /usr/local/lib/python3.5/dist-packages/keras/backend/tensorflow_backend.py:4138: The name tf.random_uniform is deprecated. Please use tf.random.uniform instead.\n",
      "\n",
      "W1029 14:38:37.321937 140620825626368 deprecation_wrapper.py:119] From /usr/local/lib/python3.5/dist-packages/keras/backend/tensorflow_backend.py:174: The name tf.get_default_session is deprecated. Please use tf.compat.v1.get_default_session instead.\n",
      "\n",
      "W1029 14:38:37.323072 140620825626368 deprecation_wrapper.py:119] From /usr/local/lib/python3.5/dist-packages/keras/backend/tensorflow_backend.py:181: The name tf.ConfigProto is deprecated. Please use tf.compat.v1.ConfigProto instead.\n",
      "\n",
      "W1029 14:38:39.405194 140620825626368 deprecation_wrapper.py:119] From /usr/local/lib/python3.5/dist-packages/keras/backend/tensorflow_backend.py:1834: The name tf.nn.fused_batch_norm is deprecated. Please use tf.compat.v1.nn.fused_batch_norm instead.\n",
      "\n",
      "W1029 14:38:39.532653 140620825626368 deprecation_wrapper.py:119] From /usr/local/lib/python3.5/dist-packages/keras/backend/tensorflow_backend.py:3976: The name tf.nn.max_pool is deprecated. Please use tf.nn.max_pool2d instead.\n",
      "\n",
      "W1029 14:38:39.542239 140620825626368 deprecation.py:506] From /usr/local/lib/python3.5/dist-packages/keras/backend/tensorflow_backend.py:3445: calling dropout (from tensorflow.python.ops.nn_ops) with keep_prob is deprecated and will be removed in a future version.\n",
      "Instructions for updating:\n",
      "Please use `rate` instead of `keep_prob`. Rate should be set to `rate = 1 - keep_prob`.\n",
      "W1029 14:38:41.124810 140620825626368 deprecation_wrapper.py:119] From /usr/local/lib/python3.5/dist-packages/keras/optimizers.py:790: The name tf.train.Optimizer is deprecated. Please use tf.compat.v1.train.Optimizer instead.\n",
      "\n",
      "W1029 14:38:41.134585 140620825626368 deprecation.py:323] From /usr/local/lib/python3.5/dist-packages/tensorflow/python/ops/nn_impl.py:180: add_dispatch_support.<locals>.wrapper (from tensorflow.python.ops.array_ops) is deprecated and will be removed in a future version.\n",
      "Instructions for updating:\n",
      "Use tf.where in 2.0, which has the same broadcast rule as np.where\n"
     ]
    },
    {
     "name": "stdout",
     "output_type": "stream",
     "text": [
      "Epoch 1/40\n",
      "32/32 [==============================] - 32s 987ms/step - loss: 0.8731 - acc: 0.6816 - val_loss: 0.7313 - val_acc: 0.6748\n",
      "\n",
      "Epoch 00001: val_acc improved from -inf to 0.67480, saving model to weights001.h5\n",
      "Epoch 2/40\n",
      "32/32 [==============================] - 23s 726ms/step - loss: 0.6496 - acc: 0.7236 - val_loss: 0.2460 - val_acc: 0.8936\n",
      "\n",
      "Epoch 00002: val_acc improved from 0.67480 to 0.89355, saving model to weights002.h5\n",
      "Epoch 3/40\n",
      "32/32 [==============================] - 21s 666ms/step - loss: 0.5946 - acc: 0.7686 - val_loss: 0.5711 - val_acc: 0.6699\n",
      "\n",
      "Epoch 00003: val_acc did not improve from 0.89355\n",
      "Epoch 4/40\n",
      "32/32 [==============================] - 20s 615ms/step - loss: 0.5315 - acc: 0.7627 - val_loss: 0.2015 - val_acc: 0.8984\n",
      "\n",
      "Epoch 00004: val_acc improved from 0.89355 to 0.89844, saving model to weights004.h5\n",
      "Epoch 5/40\n",
      "32/32 [==============================] - 25s 783ms/step - loss: 0.5416 - acc: 0.7627 - val_loss: 0.1166 - val_acc: 0.9590\n",
      "\n",
      "Epoch 00005: val_acc improved from 0.89844 to 0.95898, saving model to weights005.h5\n",
      "Epoch 6/40\n",
      "32/32 [==============================] - 24s 749ms/step - loss: 0.4831 - acc: 0.7754 - val_loss: 0.1431 - val_acc: 0.9385\n",
      "\n",
      "Epoch 00006: val_acc did not improve from 0.95898\n",
      "Epoch 7/40\n",
      "32/32 [==============================] - 26s 803ms/step - loss: 0.4738 - acc: 0.7959 - val_loss: 0.1257 - val_acc: 0.9541\n",
      "\n",
      "Epoch 00007: val_acc did not improve from 0.95898\n",
      "Epoch 8/40\n",
      "32/32 [==============================] - 25s 794ms/step - loss: 0.4945 - acc: 0.7920 - val_loss: 0.1454 - val_acc: 0.9521\n",
      "\n",
      "Epoch 00008: val_acc did not improve from 0.95898\n",
      "Epoch 9/40\n",
      "32/32 [==============================] - 24s 756ms/step - loss: 0.4913 - acc: 0.8008 - val_loss: 0.1567 - val_acc: 0.9404\n",
      "\n",
      "Epoch 00009: val_acc did not improve from 0.95898\n",
      "Epoch 10/40\n",
      "32/32 [==============================] - 24s 749ms/step - loss: 0.4506 - acc: 0.8076 - val_loss: 0.1303 - val_acc: 0.9609\n",
      "\n",
      "Epoch 00010: val_acc improved from 0.95898 to 0.96094, saving model to weights010.h5\n",
      "Epoch 11/40\n",
      "32/32 [==============================] - 26s 819ms/step - loss: 0.4383 - acc: 0.7969 - val_loss: 0.4100 - val_acc: 0.8135\n",
      "\n",
      "Epoch 00011: val_acc did not improve from 0.96094\n",
      "Epoch 12/40\n",
      "32/32 [==============================] - 26s 817ms/step - loss: 0.4509 - acc: 0.8008 - val_loss: 0.3874 - val_acc: 0.8320\n",
      "\n",
      "Epoch 00012: val_acc did not improve from 0.96094\n",
      "Epoch 13/40\n",
      "32/32 [==============================] - 26s 803ms/step - loss: 0.4224 - acc: 0.8252 - val_loss: 0.2067 - val_acc: 0.9209\n",
      "\n",
      "Epoch 00013: val_acc did not improve from 0.96094\n",
      "Epoch 14/40\n",
      "32/32 [==============================] - 26s 815ms/step - loss: 0.4488 - acc: 0.8105 - val_loss: 0.4571 - val_acc: 0.8115\n",
      "\n",
      "Epoch 00014: val_acc did not improve from 0.96094\n",
      "Epoch 15/40\n",
      "32/32 [==============================] - 26s 827ms/step - loss: 0.4989 - acc: 0.7920 - val_loss: 0.1906 - val_acc: 0.9297\n",
      "\n",
      "Epoch 00015: val_acc did not improve from 0.96094\n",
      "Epoch 16/40\n",
      "32/32 [==============================] - 24s 765ms/step - loss: 0.4161 - acc: 0.8184 - val_loss: 0.4142 - val_acc: 0.8389\n",
      "\n",
      "Epoch 00016: val_acc did not improve from 0.96094\n",
      "Epoch 17/40\n",
      "32/32 [==============================] - 24s 747ms/step - loss: 0.4468 - acc: 0.8066 - val_loss: 0.1883 - val_acc: 0.9531\n",
      "\n",
      "Epoch 00017: val_acc did not improve from 0.96094\n",
      "Epoch 18/40\n",
      "32/32 [==============================] - 25s 773ms/step - loss: 0.4078 - acc: 0.8135 - val_loss: 0.9389 - val_acc: 0.4717\n",
      "\n",
      "Epoch 00018: val_acc did not improve from 0.96094\n",
      "Epoch 19/40\n",
      "32/32 [==============================] - 24s 751ms/step - loss: 0.4037 - acc: 0.8213 - val_loss: 0.5497 - val_acc: 0.7607\n",
      "\n",
      "Epoch 00019: val_acc did not improve from 0.96094\n",
      "Epoch 20/40\n",
      "32/32 [==============================] - 22s 694ms/step - loss: 0.3792 - acc: 0.8301 - val_loss: 0.8410 - val_acc: 0.5205\n",
      "\n",
      "Epoch 00020: val_acc did not improve from 0.96094\n",
      "Epoch 21/40\n",
      "32/32 [==============================] - 22s 695ms/step - loss: 0.4579 - acc: 0.8008 - val_loss: 0.6568 - val_acc: 0.6562\n",
      "\n",
      "Epoch 00021: val_acc did not improve from 0.96094\n",
      "Epoch 22/40\n",
      "32/32 [==============================] - 24s 746ms/step - loss: 0.4111 - acc: 0.8291 - val_loss: 0.9486 - val_acc: 0.5098\n",
      "\n",
      "Epoch 00022: val_acc did not improve from 0.96094\n",
      "Epoch 23/40\n",
      "32/32 [==============================] - 23s 709ms/step - loss: 0.4589 - acc: 0.7969 - val_loss: 0.8788 - val_acc: 0.5195\n",
      "\n",
      "Epoch 00023: val_acc did not improve from 0.96094\n",
      "Epoch 24/40\n",
      "32/32 [==============================] - 22s 698ms/step - loss: 0.3609 - acc: 0.8418 - val_loss: 0.4098 - val_acc: 0.8281\n",
      "\n",
      "Epoch 00024: val_acc did not improve from 0.96094\n",
      "Epoch 25/40\n",
      "32/32 [==============================] - 22s 688ms/step - loss: 0.4413 - acc: 0.7959 - val_loss: 0.7050 - val_acc: 0.6494\n",
      "\n",
      "Epoch 00025: val_acc did not improve from 0.96094\n",
      "Epoch 26/40\n",
      "32/32 [==============================] - 23s 731ms/step - loss: 0.3984 - acc: 0.8232 - val_loss: 0.4637 - val_acc: 0.8174\n",
      "\n",
      "Epoch 00026: val_acc did not improve from 0.96094\n",
      "Epoch 27/40\n",
      "32/32 [==============================] - 26s 808ms/step - loss: 0.4319 - acc: 0.8096 - val_loss: 0.2824 - val_acc: 0.8867\n",
      "\n",
      "Epoch 00027: val_acc did not improve from 0.96094\n",
      "Epoch 28/40\n",
      "32/32 [==============================] - 22s 677ms/step - loss: 0.3546 - acc: 0.8564 - val_loss: 0.2710 - val_acc: 0.8945\n",
      "\n",
      "Epoch 00028: val_acc did not improve from 0.96094\n",
      "Epoch 29/40\n",
      "32/32 [==============================] - 27s 834ms/step - loss: 0.3918 - acc: 0.8359 - val_loss: 1.2304 - val_acc: 0.3604\n",
      "\n",
      "Epoch 00029: val_acc did not improve from 0.96094\n",
      "Epoch 30/40\n",
      "32/32 [==============================] - 25s 773ms/step - loss: 0.3813 - acc: 0.8213 - val_loss: 0.4403 - val_acc: 0.8242\n",
      "\n",
      "Epoch 00030: val_acc did not improve from 0.96094\n",
      "Epoch 31/40\n",
      "32/32 [==============================] - 25s 773ms/step - loss: 0.3926 - acc: 0.8193 - val_loss: 0.1379 - val_acc: 0.9717\n",
      "\n",
      "Epoch 00031: val_acc improved from 0.96094 to 0.97168, saving model to weights031.h5\n",
      "Epoch 32/40\n",
      "32/32 [==============================] - 24s 754ms/step - loss: 0.4190 - acc: 0.8154 - val_loss: 0.4032 - val_acc: 0.8467\n",
      "\n",
      "Epoch 00032: val_acc did not improve from 0.97168\n",
      "Epoch 33/40\n",
      "32/32 [==============================] - 28s 881ms/step - loss: 0.4086 - acc: 0.8135 - val_loss: 0.3908 - val_acc: 0.8145\n",
      "\n",
      "Epoch 00033: val_acc did not improve from 0.97168\n",
      "Epoch 34/40\n",
      "32/32 [==============================] - 28s 868ms/step - loss: 0.4275 - acc: 0.8037 - val_loss: 0.4531 - val_acc: 0.7998\n",
      "\n",
      "Epoch 00034: val_acc did not improve from 0.97168\n",
      "Epoch 35/40\n",
      "32/32 [==============================] - 24s 746ms/step - loss: 0.4111 - acc: 0.8115 - val_loss: 0.1573 - val_acc: 0.9922\n",
      "\n",
      "Epoch 00035: val_acc improved from 0.97168 to 0.99219, saving model to weights035.h5\n",
      "Epoch 36/40\n",
      "32/32 [==============================] - 39s 1s/step - loss: 0.4002 - acc: 0.8311 - val_loss: 0.5159 - val_acc: 0.7393\n",
      "\n",
      "Epoch 00036: val_acc did not improve from 0.99219\n",
      "Epoch 37/40\n",
      "32/32 [==============================] - 38s 1s/step - loss: 0.3882 - acc: 0.8203 - val_loss: 0.1603 - val_acc: 0.9775\n",
      "\n",
      "Epoch 00037: val_acc did not improve from 0.99219\n",
      "Epoch 38/40\n",
      "32/32 [==============================] - 39s 1s/step - loss: 0.4096 - acc: 0.8232 - val_loss: 0.2175 - val_acc: 0.9219\n",
      "\n",
      "Epoch 00038: val_acc did not improve from 0.99219\n",
      "Epoch 39/40\n",
      "32/32 [==============================] - 29s 892ms/step - loss: 0.3615 - acc: 0.8516 - val_loss: 0.5914 - val_acc: 0.6846\n",
      "\n",
      "Epoch 00039: val_acc did not improve from 0.99219\n",
      "Epoch 40/40\n",
      "32/32 [==============================] - 21s 642ms/step - loss: 0.3638 - acc: 0.8545 - val_loss: 0.4813 - val_acc: 0.7725\n",
      "\n",
      "Epoch 00040: val_acc did not improve from 0.99219\n",
      "0:17:10.923643\n"
     ]
    }
   ],
   "source": [
    "from datetime import datetime\n",
    "start = datetime.now()\n",
    "callbacks = [checkpoint]\n",
    "model = build(width=48, height=48, depth=3,\n",
    "    classes=2)\n",
    "opt = Adagrad(lr=INIT_LR, decay=INIT_LR / NUM_EPOCHS)\n",
    "model.compile(loss=\"binary_crossentropy\", optimizer=opt,\n",
    "    metrics=[\"accuracy\"])\n",
    "\n",
    "# fit the model\n",
    "H = model.fit_generator(\n",
    "    trainGen,\n",
    "    steps_per_epoch=32,\n",
    "    validation_data=valGen,\n",
    "    validation_steps=32,\n",
    "    class_weight=classWeight,\n",
    "    epochs=NUM_EPOCHS,\n",
    "    callbacks=callbacks\n",
    ")\n",
    "print(datetime.now() - start)"
   ]
  },
  {
   "cell_type": "code",
   "execution_count": 24,
   "metadata": {},
   "outputs": [],
   "source": [
    "from keras.models import load_model\n",
    "a = load_model(\"weights035.h5\")"
   ]
  },
  {
   "cell_type": "code",
   "execution_count": 28,
   "metadata": {},
   "outputs": [
    {
     "name": "stdout",
     "output_type": "stream",
     "text": [
      "[INFO] evaluating network...\n",
      "              precision    recall  f1-score   support\n",
      "\n",
      "           0       0.99      0.15      0.25     71652\n",
      "           1       0.32      0.99      0.48     28315\n",
      "\n",
      "    accuracy                           0.39     99967\n",
      "   macro avg       0.65      0.57      0.37     99967\n",
      "weighted avg       0.80      0.39      0.32     99967\n",
      "\n"
     ]
    }
   ],
   "source": [
    "# reset the testing generator and then use our trained model to\n",
    "# make predictions on the data\n",
    "print(\"[INFO] evaluating network...\")\n",
    "testGen.reset()\n",
    "predIdxs = a.predict_generator(testGen,steps=(totalTest // BS) + 1)\n",
    " \n",
    "# for each image in the testing set we need to find the index of the\n",
    "# label with corresponding largest predicted probability\n",
    "predIdxs = np.argmax(predIdxs, axis=1)\n",
    " \n",
    "# show a nicely formatted classification report\n",
    "print(classification_report(testGen.classes, predIdxs,\n",
    "    target_names=testGen.class_indices.keys()))"
   ]
  },
  {
   "cell_type": "code",
   "execution_count": 30,
   "metadata": {},
   "outputs": [
    {
     "name": "stdout",
     "output_type": "stream",
     "text": [
      "[INFO] evaluating network...\n",
      "              precision    recall  f1-score   support\n",
      "\n",
      "           0       0.89      0.86      0.88     71652\n",
      "           1       0.67      0.74      0.71     28315\n",
      "\n",
      "    accuracy                           0.83     99967\n",
      "   macro avg       0.78      0.80      0.79     99967\n",
      "weighted avg       0.83      0.83      0.83     99967\n",
      "\n"
     ]
    }
   ],
   "source": [
    "# reset the testing generator and then use our trained model to\n",
    "# make predictions on the data\n",
    "print(\"[INFO] evaluating network...\")\n",
    "testGen.reset()\n",
    "predIdxs = model.predict_generator(testGen,\n",
    "    steps=(totalTest // BS) + 1)\n",
    " \n",
    "# for each image in the testing set we need to find the index of the\n",
    "# label with corresponding largest predicted probability\n",
    "predIdxs = np.argmax(predIdxs, axis=1)\n",
    " \n",
    "# show a nicely formatted classification report\n",
    "print(classification_report(testGen.classes, predIdxs,\n",
    "    target_names=testGen.class_indices.keys()))"
   ]
  },
  {
   "cell_type": "code",
   "execution_count": 33,
   "metadata": {},
   "outputs": [
    {
     "name": "stdout",
     "output_type": "stream",
     "text": [
      "[[61461 10191]\n",
      " [ 7283 21032]]\n",
      "acc: 0.8252\n",
      "sensitivity: 0.8578\n",
      "specificity: 0.7428\n"
     ]
    },
    {
     "data": {
      "text/plain": [
       "<matplotlib.axes._subplots.AxesSubplot at 0x7fe449349898>"
      ]
     },
     "execution_count": 33,
     "metadata": {},
     "output_type": "execute_result"
    },
    {
     "data": {
      "image/png": "[encoded data removed]",
      "text/plain": [
       "<Figure size 432x288 with 2 Axes>"
      ]
     },
     "metadata": {},
     "output_type": "display_data"
    }
   ],
   "source": [
    "cm = confusion_matrix(testGen.classes, predIdxs)\n",
    "total = sum(sum(cm))\n",
    "acc = (cm[0, 0] + cm[1, 1]) / total\n",
    "sensitivity = cm[0, 0] / (cm[0, 0] + cm[0, 1])\n",
    "specificity = cm[1, 1] / (cm[1, 0] + cm[1, 1])\n",
    " \n",
    "# show the confusion matrix, accuracy, sensitivity, and specificity\n",
    "print(cm)\n",
    "print(\"acc: {:.4f}\".format(acc))\n",
    "print(\"sensitivity: {:.4f}\".format(sensitivity))\n",
    "print(\"specificity: {:.4f}\".format(specificity))\n",
    "sns.heatmap(cm, annot=True, fmt='g')"
   ]
  },
  {
   "cell_type": "code",
   "execution_count": 32,
   "metadata": {},
   "outputs": [
    {
     "data": {
      "text/plain": [
       "<matplotlib.legend.Legend at 0x7fe44936cd30>"
      ]
     },
     "execution_count": 32,
     "metadata": {},
     "output_type": "execute_result"
    },
    {
     "data": {
      "image/png": "[encoded data removed]",
      "text/plain": [
       "<Figure size 432x288 with 1 Axes>"
      ]
     },
     "metadata": {},
     "output_type": "display_data"
    }
   ],
   "source": [
    "N = NUM_EPOCHS\n",
    "plt.style.use(\"ggplot\")\n",
    "plt.figure()\n",
    "plt.plot(np.arange(0, N), H.history[\"loss\"], label=\"train_loss\")\n",
    "plt.plot(np.arange(0, N), H.history[\"val_loss\"], label=\"val_loss\")\n",
    "plt.plot(np.arange(0, N), H.history[\"acc\"], label=\"train_acc\")\n",
    "plt.plot(np.arange(0, N), H.history[\"val_acc\"], label=\"val_acc\")\n",
    "plt.title(\"Training Loss and Accuracy on Dataset\")\n",
    "plt.xlabel(\"Epoch #\")\n",
    "plt.ylabel(\"Loss/Accuracy\")\n",
    "plt.legend(loc=\"lower left\")"
   ]
  },
  {
   "cell_type": "code",
   "execution_count": null,
   "metadata": {},
   "outputs": [],
   "source": []
  },
  {
   "cell_type": "code",
   "execution_count": null,
   "metadata": {},
   "outputs": [],
   "source": []
  }
 ],
 "metadata": {
  "kernelspec": {
   "display_name": "Python 3",
   "language": "python",
   "name": "python3"
  },
  "language_info": {
   "codemirror_mode": {
    "name": "ipython",
    "version": 3
   },
   "file_extension": ".py",
   "mimetype": "text/x-python",
   "name": "python",
   "nbconvert_exporter": "python",
   "pygments_lexer": "ipython3",
   "version": "3.5.3"
  }
 },
 "nbformat": 4,
 "nbformat_minor": 2
}
