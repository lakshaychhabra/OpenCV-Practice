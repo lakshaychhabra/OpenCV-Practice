{
 "cells": [
  {
   "cell_type": "markdown",
   "metadata": {},
   "source": [
    "# What is Parkinson Disease\n",
    "Parkinson’s disease is a nervous system disorder that affects movement. If you have seen the movie Love & other drugs then you know something about it. There are various stages in Parkinson Disease. <br>\n",
    "Stage 1: Mild symptoms that do not typically interfere with daily life, including tremors and movement issues on only one side of the body.<br>\n",
    "Stage 2: Symptoms continue to become worse with both tremors and rigidity now affecting both sides of the body. Daily tasks become challenging.<br>\n",
    "Stage 3: Loss of balance and movements with falls becoming frequent and common. The patient is still capable of (typically) living independently.<br>\n",
    "Stage 4: Symptoms become severe and constraining. The patient is unable to live alone and requires help to perform daily activities.<br>\n",
    "Stage 5: Likely impossible to walk or stand. The patient is most likely wheelchair bound and may even experience hallucinations.<br>\n",
    "\n",
    "Detection Parkinson Disease involves analysing the Spiral and Wave pattern drawn by the patients. <br>\n",
    "\n",
    "Spiral: 102 images, 72 training, and 30 testing<br>\n",
    "Wave: 102 images, 72 training, and 30 testing"
   ]
  },
  {
   "cell_type": "code",
   "execution_count": 1,
   "metadata": {},
   "outputs": [],
   "source": [
    "from sklearn.ensemble import RandomForestClassifier\n",
    "from sklearn.preprocessing import LabelEncoder\n",
    "from sklearn.metrics import confusion_matrix\n",
    "from skimage import feature\n",
    "from imutils import build_montages\n",
    "from imutils import paths\n",
    "import numpy as np\n",
    "import cv2\n",
    "import os\n",
    "import matplotlib.pyplot as plt"
   ]
  },
  {
   "cell_type": "code",
   "execution_count": 8,
   "metadata": {},
   "outputs": [],
   "source": [
    "wave = \"dataset/wave/\"\n",
    "spiral = \"dataset/spiral/\"\n",
    "val = [wave, spiral] # 0 for wave 1 for spiral\n",
    "index = 0"
   ]
  },
  {
   "cell_type": "code",
   "execution_count": 12,
   "metadata": {},
   "outputs": [],
   "source": [
    "# Let’s define a function to quantify a wave/spiral image  with the HOG method:\n",
    "def quantify_image(image):\n",
    "    # compute the histogram of oriented gradients feature vector for\n",
    "    # the input image\n",
    "    features = feature.hog(image, orientations=9,\n",
    "        pixels_per_cell=(10, 10), cells_per_block=(2, 2),\n",
    "        transform_sqrt=True, block_norm=\"L1\")\n",
    "\n",
    "    # return the feature vector\n",
    "    return features"
   ]
  },
  {
   "cell_type": "code",
   "execution_count": 10,
   "metadata": {},
   "outputs": [],
   "source": [
    "def load_split(path):\n",
    "    # grab the list of images in the input directory, then initialize\n",
    "    # the list of data (i.e., images) and class labels\n",
    "    imagePaths = list(paths.list_images(path))\n",
    "    data = []\n",
    "    labels = []\n",
    "\n",
    "    # loop over the image paths\n",
    "    for imagePath in imagePaths:\n",
    "        # extract the class label from the filename\n",
    "        label = imagePath.split(os.path.sep)[-2]\n",
    "\n",
    "        # load the input image, convert it to grayscale, and resize\n",
    "        # it to 200x200 pixels, ignoring aspect ratio\n",
    "        image = cv2.imread(imagePath)\n",
    "        image = cv2.cvtColor(image, cv2.COLOR_BGR2GRAY)\n",
    "        image = cv2.resize(image, (200, 200))\n",
    "\n",
    "        # threshold the image such that the drawing appears as white\n",
    "        # on a black background\n",
    "        image = cv2.threshold(image, 0, 255,\n",
    "            cv2.THRESH_BINARY_INV | cv2.THRESH_OTSU)[1]\n",
    "\n",
    "        # quantify the image\n",
    "        features = quantify_image(image)\n",
    "\n",
    "        # update the data and labels lists, respectively\n",
    "        data.append(features)\n",
    "        labels.append(label)\n",
    "\n",
    "    # return the data and labels\n",
    "    return (np.array(data), np.array(labels))"
   ]
  },
  {
   "cell_type": "code",
   "execution_count": 63,
   "metadata": {},
   "outputs": [],
   "source": [
    "def define_split_train(path):\n",
    "    # define the path to the training and testing directories\n",
    "    trainingPath = os.path.sep.join([path, \"training\"])\n",
    "    testingPath = os.path.sep.join([path, \"testing\"])\n",
    "\n",
    "    # loading the training and testing data\n",
    "    print(\"[INFO] loading data...\")\n",
    "    (trainX, trainY) = load_split(trainingPath)\n",
    "    (testX, testY) = load_split(testingPath)\n",
    "\n",
    "    # encode the labels as integers\n",
    "    le = LabelEncoder()\n",
    "    trainY = le.fit_transform(trainY)\n",
    "    testY = le.transform(testY)\n",
    "    # initialize our trials dictionary\n",
    "    trials = {}\n",
    "    for i in range(0, 5):\n",
    "        # train the model\n",
    "        print(\"[INFO] training model {} of {}...\".format(i + 1,\n",
    "            5))\n",
    "        model = RandomForestClassifier(n_estimators=100)\n",
    "        model.fit(trainX, trainY)\n",
    "\n",
    "        # make predictions on the testing data and initialize a dictionary\n",
    "        # to store our computed metrics\n",
    "        predictions = model.predict(testX)\n",
    "        metrics = {}\n",
    "\n",
    "        # compute the confusion matrix and and use it to derive the raw\n",
    "        # accuracy, sensitivity, and specificity\n",
    "        cm = confusion_matrix(testY, predictions).flatten()\n",
    "        (tn, fp, fn, tp) = cm\n",
    "        metrics[\"acc\"] = (tp + tn) / float(cm.sum())\n",
    "        metrics[\"sensitivity\"] = tp / float(tp + fn)\n",
    "        metrics[\"specificity\"] = tn / float(tn + fp)\n",
    "\n",
    "        # loop over the metrics\n",
    "        for (k, v) in metrics.items():\n",
    "            # update the trials dictionary with the list of values for\n",
    "            # the current metric\n",
    "            l = trials.get(k, [])\n",
    "            l.append(v)\n",
    "            trials[k] = l\n",
    "        # loop over our metrics\n",
    "    for metric in (\"acc\", \"sensitivity\", \"specificity\"):\n",
    "        # grab the list of values for the current metric, then compute\n",
    "        # the mean and standard deviation\n",
    "        values = trials[metric]\n",
    "        mean = np.mean(values)\n",
    "        std = np.std(values)\n",
    "\n",
    "        # show the computed metrics for the statistic\n",
    "        print(metric)\n",
    "        print(metrics[\"acc\"])\n",
    "        print(\"=\" * len(metric))\n",
    "        print(\"u={:.4f}, o={:.4f}\".format(mean, std))\n",
    "        print(\"\")\n",
    "        \n",
    "        testingPaths = list(paths.list_images(testingPath))\n",
    "    idxs = np.arange(0, len(testingPaths))\n",
    "    idxs = np.random.choice(idxs, size=(25,), replace=False)\n",
    "    images = []\n",
    "\n",
    "    # loop over the testing samples\n",
    "    for i in idxs:\n",
    "        # load the testing image, clone it, and resize it\n",
    "        image = cv2.imread(testingPaths[i])\n",
    "        output = image.copy()\n",
    "        output = cv2.resize(output, (128, 128))\n",
    "\n",
    "        # pre-process the image in the same manner we did earlier\n",
    "        image = cv2.cvtColor(image, cv2.COLOR_BGR2GRAY)\n",
    "        image = cv2.resize(image, (200, 200))\n",
    "        image = cv2.threshold(image, 0, 255,\n",
    "            cv2.THRESH_BINARY_INV | cv2.THRESH_OTSU)[1]\n",
    "        # quantify the image and make predictions based on the extracted\n",
    "        # features using the last trained Random Forest\n",
    "        features = quantify_image(image)\n",
    "        preds = model.predict([features])\n",
    "        label = le.inverse_transform(preds)[0]\n",
    "\n",
    "        # draw the colored class label on the output image and add it to\n",
    "        # the set of output images\n",
    "        color = (0, 255, 0) if label == \"healthy\" else (0, 0, 255)\n",
    "        cv2.putText(output, label, (3, 20), cv2.FONT_HERSHEY_SIMPLEX, 0.5,\n",
    "            color, 2)\n",
    "        images.append(output)\n",
    "\n",
    "    # create a montage using 128x128 \"tiles\" with 5 rows and 5 columns\n",
    "    montage = build_montages(images, (128, 128), (5, 5))[0]\n",
    "    plt.imshow(montage, aspect='auto')\n",
    "    cm = confusion_matrix(testY, predictions)\n",
    "    sns.heatmap(cm, annot=True)\n",
    "    # show the output montage\n",
    "    # cv2.imshow(\"Output\", montage)\n",
    "    # cv2.waitKey(0)\n",
    "\n",
    "\n"
   ]
  },
  {
   "cell_type": "code",
   "execution_count": 64,
   "metadata": {},
   "outputs": [
    {
     "name": "stdout",
     "output_type": "stream",
     "text": [
      "[INFO] loading data...\n",
      "[INFO] training model 1 of 5...\n",
      "[INFO] training model 2 of 5...\n",
      "[INFO] training model 3 of 5...\n",
      "[INFO] training model 4 of 5...\n",
      "[INFO] training model 5 of 5...\n",
      "acc\n",
      "0.8333333333333334\n",
      "===\n",
      "u=0.8000, o=0.0211\n",
      "\n",
      "sensitivity\n",
      "0.8333333333333334\n",
      "===========\n",
      "u=0.7200, o=0.0267\n",
      "\n",
      "specificity\n",
      "0.8333333333333334\n",
      "===========\n",
      "u=0.8800, o=0.0267\n",
      "\n"
     ]
    },
    {
     "data": {
      "image/png": "[encoded data removed]",
      "text/plain": [
       "<Figure size 432x288 with 2 Axes>"
      ]
     },
     "metadata": {
      "needs_background": "light"
     },
     "output_type": "display_data"
    }
   ],
   "source": [
    "define_split_train(val[1])"
   ]
  },
  {
   "cell_type": "code",
   "execution_count": 15,
   "metadata": {},
   "outputs": [],
   "source": [
    "# Now lets apply deep learning to it and see if reults improve"
   ]
  },
  {
   "cell_type": "code",
   "execution_count": 2,
   "metadata": {},
   "outputs": [
    {
     "name": "stderr",
     "output_type": "stream",
     "text": [
      "Using TensorFlow backend.\n"
     ]
    }
   ],
   "source": [
    "import numpy as np\n",
    "import seaborn as sns\n",
    "%matplotlib inline\n",
    "from keras.preprocessing.image import ImageDataGenerator\n",
    "# from keras.backend import clear_session\n",
    "from keras.optimizers import SGD, Adam\n",
    "from pathlib import Path\n",
    "from keras.applications.mobilenet_v2 import MobileNetV2\n",
    "from keras.models import Sequential, Model, load_model\n",
    "from keras.layers import Dense, Dropout, Flatten, MaxPooling2D, BatchNormalization, Conv2D, AveragePooling2D\n",
    "from keras import initializers, regularizers\n",
    "from pathlib import Path\n",
    "from keras.callbacks import ModelCheckpoint, ReduceLROnPlateau, History, LearningRateScheduler\n",
    "from datetime import datetime\n",
    "import warnings\n",
    "warnings.filterwarnings(\"ignore\")\n",
    "import os\n",
    "import matplotlib.image as mpimg"
   ]
  },
  {
   "cell_type": "code",
   "execution_count": null,
   "metadata": {},
   "outputs": [],
   "source": []
  },
  {
   "cell_type": "code",
   "execution_count": 3,
   "metadata": {},
   "outputs": [
    {
     "name": "stdout",
     "output_type": "stream",
     "text": [
      "/Users/lakshaychhabra/Desktop/Open Cv projects/Medical/Parkinson Disease\r\n"
     ]
    }
   ],
   "source": [
    "!pwd"
   ]
  },
  {
   "cell_type": "code",
   "execution_count": 3,
   "metadata": {},
   "outputs": [],
   "source": [
    "train_healthy = (len([iq for iq in os.scandir('dataset/spiral/training/healthy/')]))\n",
    "train_parkinson = (len([iq for iq in os.scandir('dataset/spiral/training/parkinson/')]))\n",
    "test_healthy = (len([iq for iq in os.scandir('dataset/spiral/testing/healthy/')]))\n",
    "test_parkinson = (len([iq for iq in os.scandir('dataset/spiral/testing/parkinson/')]))"
   ]
  },
  {
   "cell_type": "code",
   "execution_count": 4,
   "metadata": {},
   "outputs": [],
   "source": [
    "train_data = [train_healthy, train_parkinson]\n",
    "test_data = [test_healthy, test_parkinson]"
   ]
  },
  {
   "cell_type": "code",
   "execution_count": 5,
   "metadata": {},
   "outputs": [
    {
     "name": "stdout",
     "output_type": "stream",
     "text": [
      "Total train data of healthy person is 36 and patient is 36 and total sum is 72\n",
      "Total test data of healthy person is 15 and patient is 15 and total sum is 30\n"
     ]
    }
   ],
   "source": [
    "print(\"Total train data of healthy person is {} and patient is {} and total sum is {}\".format(train_data[0], train_data[1], sum(train_data)))\n",
    "print(\"Total test data of healthy person is {} and patient is {} and total sum is {}\".format(test_data[0], test_data[1], sum(test_data)))\n"
   ]
  },
  {
   "cell_type": "code",
   "execution_count": 6,
   "metadata": {},
   "outputs": [],
   "source": [
    "train_path = r\"dataset/spiral/training\"\n",
    "test_path = r\"dataset/spiral/testing\""
   ]
  },
  {
   "cell_type": "code",
   "execution_count": 12,
   "metadata": {},
   "outputs": [
    {
     "data": {
      "text/plain": [
       "<matplotlib.image.AxesImage at 0x1c434b59b0>"
      ]
     },
     "execution_count": 12,
     "metadata": {},
     "output_type": "execute_result"
    },
    {
     "data": {
      "image/png": "[encoded data removed]",
      "text/plain": [
       "<Figure size 432x288 with 2 Axes>"
      ]
     },
     "metadata": {
      "needs_background": "light"
     },
     "output_type": "display_data"
    }
   ],
   "source": [
    "# Example of data of healthy person and parkinson patient : \n",
    "f, (ax1, ax2) = plt.subplots(1, 2)\n",
    "img = mpimg.imread(train_path+\"/healthy/V01HE03.png\")\n",
    "ax1.imshow(img)\n",
    "img=mpimg.imread(train_path+\"/parkinson/V04PE02.png\") \n",
    "ax2.imshow(img)"
   ]
  },
  {
   "cell_type": "code",
   "execution_count": 63,
   "metadata": {},
   "outputs": [],
   "source": [
    "train_data_generation = ImageDataGenerator(rescale=1./255, rotation_range=90, \n",
    "    width_shift_range=0.5, height_shift_range=0.5, shear_range=0.2, zoom_range=[0.9, 1.25], \n",
    "    channel_shift_range=20, horizontal_flip=True, vertical_flip = True, fill_mode='reflect'\n",
    ")\n",
    "validation_data_generation = ImageDataGenerator(rescale=1./255 )#need float values "
   ]
  },
  {
   "cell_type": "code",
   "execution_count": 65,
   "metadata": {},
   "outputs": [
    {
     "name": "stdout",
     "output_type": "stream",
     "text": [
      "Found 72 images belonging to 2 classes.\n",
      "Found 30 images belonging to 2 classes.\n"
     ]
    }
   ],
   "source": [
    "size = 224\n",
    "train_generator = train_data_generation.flow_from_directory( train_path,\n",
    "target_size=(size, size), class_mode='categorical', batch_size = 64, \n",
    ")\n",
    "validation_generator = validation_data_generation.flow_from_directory( test_path,\n",
    "target_size=(size, size), class_mode='categorical', batch_size = 64, \n",
    ")"
   ]
  },
  {
   "cell_type": "code",
   "execution_count": 67,
   "metadata": {},
   "outputs": [
    {
     "name": "stdout",
     "output_type": "stream",
     "text": [
      "Downloading data from https://github.com/JonathanCMitchell/mobilenet_v2_keras/releases/download/v1.1/mobilenet_v2_weights_tf_dim_ordering_tf_kernels_1.0_224_no_top.h5\n",
      "9412608/9406464 [==============================] - 24s 3us/step\n",
      "__________________________________________________________________________________________________\n",
      "Layer (type)                    Output Shape         Param #     Connected to                     \n",
      "==================================================================================================\n",
      "input_1 (InputLayer)            (None, 224, 224, 3)  0                                            \n",
      "__________________________________________________________________________________________________\n",
      "Conv1_pad (ZeroPadding2D)       (None, 225, 225, 3)  0           input_1[0][0]                    \n",
      "__________________________________________________________________________________________________\n",
      "Conv1 (Conv2D)                  (None, 112, 112, 32) 864         Conv1_pad[0][0]                  \n",
      "__________________________________________________________________________________________________\n",
      "bn_Conv1 (BatchNormalization)   (None, 112, 112, 32) 128         Conv1[0][0]                      \n",
      "__________________________________________________________________________________________________\n",
      "Conv1_relu (ReLU)               (None, 112, 112, 32) 0           bn_Conv1[0][0]                   \n",
      "__________________________________________________________________________________________________\n",
      "expanded_conv_depthwise (Depthw (None, 112, 112, 32) 288         Conv1_relu[0][0]                 \n",
      "__________________________________________________________________________________________________\n",
      "expanded_conv_depthwise_BN (Bat (None, 112, 112, 32) 128         expanded_conv_depthwise[0][0]    \n",
      "__________________________________________________________________________________________________\n",
      "expanded_conv_depthwise_relu (R (None, 112, 112, 32) 0           expanded_conv_depthwise_BN[0][0] \n",
      "__________________________________________________________________________________________________\n",
      "expanded_conv_project (Conv2D)  (None, 112, 112, 16) 512         expanded_conv_depthwise_relu[0][0\n",
      "__________________________________________________________________________________________________\n",
      "expanded_conv_project_BN (Batch (None, 112, 112, 16) 64          expanded_conv_project[0][0]      \n",
      "__________________________________________________________________________________________________\n",
      "block_1_expand (Conv2D)         (None, 112, 112, 96) 1536        expanded_conv_project_BN[0][0]   \n",
      "__________________________________________________________________________________________________\n",
      "block_1_expand_BN (BatchNormali (None, 112, 112, 96) 384         block_1_expand[0][0]             \n",
      "__________________________________________________________________________________________________\n",
      "block_1_expand_relu (ReLU)      (None, 112, 112, 96) 0           block_1_expand_BN[0][0]          \n",
      "__________________________________________________________________________________________________\n",
      "block_1_pad (ZeroPadding2D)     (None, 113, 113, 96) 0           block_1_expand_relu[0][0]        \n",
      "__________________________________________________________________________________________________\n",
      "block_1_depthwise (DepthwiseCon (None, 56, 56, 96)   864         block_1_pad[0][0]                \n",
      "__________________________________________________________________________________________________\n",
      "block_1_depthwise_BN (BatchNorm (None, 56, 56, 96)   384         block_1_depthwise[0][0]          \n",
      "__________________________________________________________________________________________________\n",
      "block_1_depthwise_relu (ReLU)   (None, 56, 56, 96)   0           block_1_depthwise_BN[0][0]       \n",
      "__________________________________________________________________________________________________\n",
      "block_1_project (Conv2D)        (None, 56, 56, 24)   2304        block_1_depthwise_relu[0][0]     \n",
      "__________________________________________________________________________________________________\n",
      "block_1_project_BN (BatchNormal (None, 56, 56, 24)   96          block_1_project[0][0]            \n",
      "__________________________________________________________________________________________________\n",
      "block_2_expand (Conv2D)         (None, 56, 56, 144)  3456        block_1_project_BN[0][0]         \n",
      "__________________________________________________________________________________________________\n",
      "block_2_expand_BN (BatchNormali (None, 56, 56, 144)  576         block_2_expand[0][0]             \n",
      "__________________________________________________________________________________________________\n",
      "block_2_expand_relu (ReLU)      (None, 56, 56, 144)  0           block_2_expand_BN[0][0]          \n",
      "__________________________________________________________________________________________________\n",
      "block_2_depthwise (DepthwiseCon (None, 56, 56, 144)  1296        block_2_expand_relu[0][0]        \n",
      "__________________________________________________________________________________________________\n",
      "block_2_depthwise_BN (BatchNorm (None, 56, 56, 144)  576         block_2_depthwise[0][0]          \n",
      "__________________________________________________________________________________________________\n",
      "block_2_depthwise_relu (ReLU)   (None, 56, 56, 144)  0           block_2_depthwise_BN[0][0]       \n",
      "__________________________________________________________________________________________________\n",
      "block_2_project (Conv2D)        (None, 56, 56, 24)   3456        block_2_depthwise_relu[0][0]     \n",
      "__________________________________________________________________________________________________\n",
      "block_2_project_BN (BatchNormal (None, 56, 56, 24)   96          block_2_project[0][0]            \n",
      "__________________________________________________________________________________________________\n",
      "block_2_add (Add)               (None, 56, 56, 24)   0           block_1_project_BN[0][0]         \n",
      "                                                                 block_2_project_BN[0][0]         \n",
      "__________________________________________________________________________________________________\n",
      "block_3_expand (Conv2D)         (None, 56, 56, 144)  3456        block_2_add[0][0]                \n",
      "__________________________________________________________________________________________________\n",
      "block_3_expand_BN (BatchNormali (None, 56, 56, 144)  576         block_3_expand[0][0]             \n",
      "__________________________________________________________________________________________________\n",
      "block_3_expand_relu (ReLU)      (None, 56, 56, 144)  0           block_3_expand_BN[0][0]          \n",
      "__________________________________________________________________________________________________\n",
      "block_3_pad (ZeroPadding2D)     (None, 57, 57, 144)  0           block_3_expand_relu[0][0]        \n",
      "__________________________________________________________________________________________________\n",
      "block_3_depthwise (DepthwiseCon (None, 28, 28, 144)  1296        block_3_pad[0][0]                \n",
      "__________________________________________________________________________________________________\n",
      "block_3_depthwise_BN (BatchNorm (None, 28, 28, 144)  576         block_3_depthwise[0][0]          \n",
      "__________________________________________________________________________________________________\n",
      "block_3_depthwise_relu (ReLU)   (None, 28, 28, 144)  0           block_3_depthwise_BN[0][0]       \n",
      "__________________________________________________________________________________________________\n",
      "block_3_project (Conv2D)        (None, 28, 28, 32)   4608        block_3_depthwise_relu[0][0]     \n",
      "__________________________________________________________________________________________________\n",
      "block_3_project_BN (BatchNormal (None, 28, 28, 32)   128         block_3_project[0][0]            \n",
      "__________________________________________________________________________________________________\n",
      "block_4_expand (Conv2D)         (None, 28, 28, 192)  6144        block_3_project_BN[0][0]         \n",
      "__________________________________________________________________________________________________\n",
      "block_4_expand_BN (BatchNormali (None, 28, 28, 192)  768         block_4_expand[0][0]             \n",
      "__________________________________________________________________________________________________\n",
      "block_4_expand_relu (ReLU)      (None, 28, 28, 192)  0           block_4_expand_BN[0][0]          \n",
      "__________________________________________________________________________________________________\n",
      "block_4_depthwise (DepthwiseCon (None, 28, 28, 192)  1728        block_4_expand_relu[0][0]        \n",
      "__________________________________________________________________________________________________\n",
      "block_4_depthwise_BN (BatchNorm (None, 28, 28, 192)  768         block_4_depthwise[0][0]          \n",
      "__________________________________________________________________________________________________\n",
      "block_4_depthwise_relu (ReLU)   (None, 28, 28, 192)  0           block_4_depthwise_BN[0][0]       \n",
      "__________________________________________________________________________________________________\n",
      "block_4_project (Conv2D)        (None, 28, 28, 32)   6144        block_4_depthwise_relu[0][0]     \n",
      "__________________________________________________________________________________________________\n",
      "block_4_project_BN (BatchNormal (None, 28, 28, 32)   128         block_4_project[0][0]            \n",
      "__________________________________________________________________________________________________\n",
      "block_4_add (Add)               (None, 28, 28, 32)   0           block_3_project_BN[0][0]         \n",
      "                                                                 block_4_project_BN[0][0]         \n",
      "__________________________________________________________________________________________________\n",
      "block_5_expand (Conv2D)         (None, 28, 28, 192)  6144        block_4_add[0][0]                \n",
      "__________________________________________________________________________________________________\n",
      "block_5_expand_BN (BatchNormali (None, 28, 28, 192)  768         block_5_expand[0][0]             \n",
      "__________________________________________________________________________________________________\n",
      "block_5_expand_relu (ReLU)      (None, 28, 28, 192)  0           block_5_expand_BN[0][0]          \n",
      "__________________________________________________________________________________________________\n",
      "block_5_depthwise (DepthwiseCon (None, 28, 28, 192)  1728        block_5_expand_relu[0][0]        \n",
      "__________________________________________________________________________________________________\n",
      "block_5_depthwise_BN (BatchNorm (None, 28, 28, 192)  768         block_5_depthwise[0][0]          \n",
      "__________________________________________________________________________________________________\n",
      "block_5_depthwise_relu (ReLU)   (None, 28, 28, 192)  0           block_5_depthwise_BN[0][0]       \n",
      "__________________________________________________________________________________________________\n",
      "block_5_project (Conv2D)        (None, 28, 28, 32)   6144        block_5_depthwise_relu[0][0]     \n",
      "__________________________________________________________________________________________________\n",
      "block_5_project_BN (BatchNormal (None, 28, 28, 32)   128         block_5_project[0][0]            \n",
      "__________________________________________________________________________________________________\n",
      "block_5_add (Add)               (None, 28, 28, 32)   0           block_4_add[0][0]                \n",
      "                                                                 block_5_project_BN[0][0]         \n",
      "__________________________________________________________________________________________________\n",
      "block_6_expand (Conv2D)         (None, 28, 28, 192)  6144        block_5_add[0][0]                \n",
      "__________________________________________________________________________________________________\n",
      "block_6_expand_BN (BatchNormali (None, 28, 28, 192)  768         block_6_expand[0][0]             \n",
      "__________________________________________________________________________________________________\n",
      "block_6_expand_relu (ReLU)      (None, 28, 28, 192)  0           block_6_expand_BN[0][0]          \n",
      "__________________________________________________________________________________________________\n",
      "block_6_pad (ZeroPadding2D)     (None, 29, 29, 192)  0           block_6_expand_relu[0][0]        \n",
      "__________________________________________________________________________________________________\n",
      "block_6_depthwise (DepthwiseCon (None, 14, 14, 192)  1728        block_6_pad[0][0]                \n",
      "__________________________________________________________________________________________________\n",
      "block_6_depthwise_BN (BatchNorm (None, 14, 14, 192)  768         block_6_depthwise[0][0]          \n",
      "__________________________________________________________________________________________________\n",
      "block_6_depthwise_relu (ReLU)   (None, 14, 14, 192)  0           block_6_depthwise_BN[0][0]       \n",
      "__________________________________________________________________________________________________\n",
      "block_6_project (Conv2D)        (None, 14, 14, 64)   12288       block_6_depthwise_relu[0][0]     \n",
      "__________________________________________________________________________________________________\n",
      "block_6_project_BN (BatchNormal (None, 14, 14, 64)   256         block_6_project[0][0]            \n",
      "__________________________________________________________________________________________________\n",
      "block_7_expand (Conv2D)         (None, 14, 14, 384)  24576       block_6_project_BN[0][0]         \n",
      "__________________________________________________________________________________________________\n",
      "block_7_expand_BN (BatchNormali (None, 14, 14, 384)  1536        block_7_expand[0][0]             \n",
      "__________________________________________________________________________________________________\n",
      "block_7_expand_relu (ReLU)      (None, 14, 14, 384)  0           block_7_expand_BN[0][0]          \n",
      "__________________________________________________________________________________________________\n",
      "block_7_depthwise (DepthwiseCon (None, 14, 14, 384)  3456        block_7_expand_relu[0][0]        \n",
      "__________________________________________________________________________________________________\n",
      "block_7_depthwise_BN (BatchNorm (None, 14, 14, 384)  1536        block_7_depthwise[0][0]          \n",
      "__________________________________________________________________________________________________\n",
      "block_7_depthwise_relu (ReLU)   (None, 14, 14, 384)  0           block_7_depthwise_BN[0][0]       \n",
      "__________________________________________________________________________________________________\n",
      "block_7_project (Conv2D)        (None, 14, 14, 64)   24576       block_7_depthwise_relu[0][0]     \n",
      "__________________________________________________________________________________________________\n",
      "block_7_project_BN (BatchNormal (None, 14, 14, 64)   256         block_7_project[0][0]            \n",
      "__________________________________________________________________________________________________\n",
      "block_7_add (Add)               (None, 14, 14, 64)   0           block_6_project_BN[0][0]         \n",
      "                                                                 block_7_project_BN[0][0]         \n",
      "__________________________________________________________________________________________________\n",
      "block_8_expand (Conv2D)         (None, 14, 14, 384)  24576       block_7_add[0][0]                \n",
      "__________________________________________________________________________________________________\n",
      "block_8_expand_BN (BatchNormali (None, 14, 14, 384)  1536        block_8_expand[0][0]             \n",
      "__________________________________________________________________________________________________\n",
      "block_8_expand_relu (ReLU)      (None, 14, 14, 384)  0           block_8_expand_BN[0][0]          \n",
      "__________________________________________________________________________________________________\n",
      "block_8_depthwise (DepthwiseCon (None, 14, 14, 384)  3456        block_8_expand_relu[0][0]        \n",
      "__________________________________________________________________________________________________\n",
      "block_8_depthwise_BN (BatchNorm (None, 14, 14, 384)  1536        block_8_depthwise[0][0]          \n",
      "__________________________________________________________________________________________________\n",
      "block_8_depthwise_relu (ReLU)   (None, 14, 14, 384)  0           block_8_depthwise_BN[0][0]       \n",
      "__________________________________________________________________________________________________\n",
      "block_8_project (Conv2D)        (None, 14, 14, 64)   24576       block_8_depthwise_relu[0][0]     \n",
      "__________________________________________________________________________________________________\n",
      "block_8_project_BN (BatchNormal (None, 14, 14, 64)   256         block_8_project[0][0]            \n",
      "__________________________________________________________________________________________________\n",
      "block_8_add (Add)               (None, 14, 14, 64)   0           block_7_add[0][0]                \n",
      "                                                                 block_8_project_BN[0][0]         \n",
      "__________________________________________________________________________________________________\n",
      "block_9_expand (Conv2D)         (None, 14, 14, 384)  24576       block_8_add[0][0]                \n",
      "__________________________________________________________________________________________________\n",
      "block_9_expand_BN (BatchNormali (None, 14, 14, 384)  1536        block_9_expand[0][0]             \n",
      "__________________________________________________________________________________________________\n",
      "block_9_expand_relu (ReLU)      (None, 14, 14, 384)  0           block_9_expand_BN[0][0]          \n",
      "__________________________________________________________________________________________________\n",
      "block_9_depthwise (DepthwiseCon (None, 14, 14, 384)  3456        block_9_expand_relu[0][0]        \n",
      "__________________________________________________________________________________________________\n",
      "block_9_depthwise_BN (BatchNorm (None, 14, 14, 384)  1536        block_9_depthwise[0][0]          \n",
      "__________________________________________________________________________________________________\n",
      "block_9_depthwise_relu (ReLU)   (None, 14, 14, 384)  0           block_9_depthwise_BN[0][0]       \n",
      "__________________________________________________________________________________________________\n",
      "block_9_project (Conv2D)        (None, 14, 14, 64)   24576       block_9_depthwise_relu[0][0]     \n",
      "__________________________________________________________________________________________________\n",
      "block_9_project_BN (BatchNormal (None, 14, 14, 64)   256         block_9_project[0][0]            \n",
      "__________________________________________________________________________________________________\n",
      "block_9_add (Add)               (None, 14, 14, 64)   0           block_8_add[0][0]                \n",
      "                                                                 block_9_project_BN[0][0]         \n",
      "__________________________________________________________________________________________________\n",
      "block_10_expand (Conv2D)        (None, 14, 14, 384)  24576       block_9_add[0][0]                \n",
      "__________________________________________________________________________________________________\n",
      "block_10_expand_BN (BatchNormal (None, 14, 14, 384)  1536        block_10_expand[0][0]            \n",
      "__________________________________________________________________________________________________\n",
      "block_10_expand_relu (ReLU)     (None, 14, 14, 384)  0           block_10_expand_BN[0][0]         \n",
      "__________________________________________________________________________________________________\n",
      "block_10_depthwise (DepthwiseCo (None, 14, 14, 384)  3456        block_10_expand_relu[0][0]       \n",
      "__________________________________________________________________________________________________\n",
      "block_10_depthwise_BN (BatchNor (None, 14, 14, 384)  1536        block_10_depthwise[0][0]         \n",
      "__________________________________________________________________________________________________\n",
      "block_10_depthwise_relu (ReLU)  (None, 14, 14, 384)  0           block_10_depthwise_BN[0][0]      \n",
      "__________________________________________________________________________________________________\n",
      "block_10_project (Conv2D)       (None, 14, 14, 96)   36864       block_10_depthwise_relu[0][0]    \n",
      "__________________________________________________________________________________________________\n",
      "block_10_project_BN (BatchNorma (None, 14, 14, 96)   384         block_10_project[0][0]           \n",
      "__________________________________________________________________________________________________\n",
      "block_11_expand (Conv2D)        (None, 14, 14, 576)  55296       block_10_project_BN[0][0]        \n",
      "__________________________________________________________________________________________________\n",
      "block_11_expand_BN (BatchNormal (None, 14, 14, 576)  2304        block_11_expand[0][0]            \n",
      "__________________________________________________________________________________________________\n",
      "block_11_expand_relu (ReLU)     (None, 14, 14, 576)  0           block_11_expand_BN[0][0]         \n",
      "__________________________________________________________________________________________________\n",
      "block_11_depthwise (DepthwiseCo (None, 14, 14, 576)  5184        block_11_expand_relu[0][0]       \n",
      "__________________________________________________________________________________________________\n",
      "block_11_depthwise_BN (BatchNor (None, 14, 14, 576)  2304        block_11_depthwise[0][0]         \n",
      "__________________________________________________________________________________________________\n",
      "block_11_depthwise_relu (ReLU)  (None, 14, 14, 576)  0           block_11_depthwise_BN[0][0]      \n",
      "__________________________________________________________________________________________________\n",
      "block_11_project (Conv2D)       (None, 14, 14, 96)   55296       block_11_depthwise_relu[0][0]    \n",
      "__________________________________________________________________________________________________\n",
      "block_11_project_BN (BatchNorma (None, 14, 14, 96)   384         block_11_project[0][0]           \n",
      "__________________________________________________________________________________________________\n",
      "block_11_add (Add)              (None, 14, 14, 96)   0           block_10_project_BN[0][0]        \n",
      "                                                                 block_11_project_BN[0][0]        \n",
      "__________________________________________________________________________________________________\n",
      "block_12_expand (Conv2D)        (None, 14, 14, 576)  55296       block_11_add[0][0]               \n",
      "__________________________________________________________________________________________________\n",
      "block_12_expand_BN (BatchNormal (None, 14, 14, 576)  2304        block_12_expand[0][0]            \n",
      "__________________________________________________________________________________________________\n",
      "block_12_expand_relu (ReLU)     (None, 14, 14, 576)  0           block_12_expand_BN[0][0]         \n",
      "__________________________________________________________________________________________________\n",
      "block_12_depthwise (DepthwiseCo (None, 14, 14, 576)  5184        block_12_expand_relu[0][0]       \n",
      "__________________________________________________________________________________________________\n",
      "block_12_depthwise_BN (BatchNor (None, 14, 14, 576)  2304        block_12_depthwise[0][0]         \n",
      "__________________________________________________________________________________________________\n",
      "block_12_depthwise_relu (ReLU)  (None, 14, 14, 576)  0           block_12_depthwise_BN[0][0]      \n",
      "__________________________________________________________________________________________________\n",
      "block_12_project (Conv2D)       (None, 14, 14, 96)   55296       block_12_depthwise_relu[0][0]    \n",
      "__________________________________________________________________________________________________\n",
      "block_12_project_BN (BatchNorma (None, 14, 14, 96)   384         block_12_project[0][0]           \n",
      "__________________________________________________________________________________________________\n",
      "block_12_add (Add)              (None, 14, 14, 96)   0           block_11_add[0][0]               \n",
      "                                                                 block_12_project_BN[0][0]        \n",
      "__________________________________________________________________________________________________\n",
      "block_13_expand (Conv2D)        (None, 14, 14, 576)  55296       block_12_add[0][0]               \n",
      "__________________________________________________________________________________________________\n",
      "block_13_expand_BN (BatchNormal (None, 14, 14, 576)  2304        block_13_expand[0][0]            \n",
      "__________________________________________________________________________________________________\n",
      "block_13_expand_relu (ReLU)     (None, 14, 14, 576)  0           block_13_expand_BN[0][0]         \n",
      "__________________________________________________________________________________________________\n",
      "block_13_pad (ZeroPadding2D)    (None, 15, 15, 576)  0           block_13_expand_relu[0][0]       \n",
      "__________________________________________________________________________________________________\n",
      "block_13_depthwise (DepthwiseCo (None, 7, 7, 576)    5184        block_13_pad[0][0]               \n",
      "__________________________________________________________________________________________________\n",
      "block_13_depthwise_BN (BatchNor (None, 7, 7, 576)    2304        block_13_depthwise[0][0]         \n",
      "__________________________________________________________________________________________________\n",
      "block_13_depthwise_relu (ReLU)  (None, 7, 7, 576)    0           block_13_depthwise_BN[0][0]      \n",
      "__________________________________________________________________________________________________\n",
      "block_13_project (Conv2D)       (None, 7, 7, 160)    92160       block_13_depthwise_relu[0][0]    \n",
      "__________________________________________________________________________________________________\n",
      "block_13_project_BN (BatchNorma (None, 7, 7, 160)    640         block_13_project[0][0]           \n",
      "__________________________________________________________________________________________________\n",
      "block_14_expand (Conv2D)        (None, 7, 7, 960)    153600      block_13_project_BN[0][0]        \n",
      "__________________________________________________________________________________________________\n",
      "block_14_expand_BN (BatchNormal (None, 7, 7, 960)    3840        block_14_expand[0][0]            \n",
      "__________________________________________________________________________________________________\n",
      "block_14_expand_relu (ReLU)     (None, 7, 7, 960)    0           block_14_expand_BN[0][0]         \n",
      "__________________________________________________________________________________________________\n",
      "block_14_depthwise (DepthwiseCo (None, 7, 7, 960)    8640        block_14_expand_relu[0][0]       \n",
      "__________________________________________________________________________________________________\n",
      "block_14_depthwise_BN (BatchNor (None, 7, 7, 960)    3840        block_14_depthwise[0][0]         \n",
      "__________________________________________________________________________________________________\n",
      "block_14_depthwise_relu (ReLU)  (None, 7, 7, 960)    0           block_14_depthwise_BN[0][0]      \n",
      "__________________________________________________________________________________________________\n",
      "block_14_project (Conv2D)       (None, 7, 7, 160)    153600      block_14_depthwise_relu[0][0]    \n",
      "__________________________________________________________________________________________________\n",
      "block_14_project_BN (BatchNorma (None, 7, 7, 160)    640         block_14_project[0][0]           \n",
      "__________________________________________________________________________________________________\n",
      "block_14_add (Add)              (None, 7, 7, 160)    0           block_13_project_BN[0][0]        \n",
      "                                                                 block_14_project_BN[0][0]        \n",
      "__________________________________________________________________________________________________\n",
      "block_15_expand (Conv2D)        (None, 7, 7, 960)    153600      block_14_add[0][0]               \n",
      "__________________________________________________________________________________________________\n",
      "block_15_expand_BN (BatchNormal (None, 7, 7, 960)    3840        block_15_expand[0][0]            \n",
      "__________________________________________________________________________________________________\n",
      "block_15_expand_relu (ReLU)     (None, 7, 7, 960)    0           block_15_expand_BN[0][0]         \n",
      "__________________________________________________________________________________________________\n",
      "block_15_depthwise (DepthwiseCo (None, 7, 7, 960)    8640        block_15_expand_relu[0][0]       \n",
      "__________________________________________________________________________________________________\n",
      "block_15_depthwise_BN (BatchNor (None, 7, 7, 960)    3840        block_15_depthwise[0][0]         \n",
      "__________________________________________________________________________________________________\n",
      "block_15_depthwise_relu (ReLU)  (None, 7, 7, 960)    0           block_15_depthwise_BN[0][0]      \n",
      "__________________________________________________________________________________________________\n",
      "block_15_project (Conv2D)       (None, 7, 7, 160)    153600      block_15_depthwise_relu[0][0]    \n",
      "__________________________________________________________________________________________________\n",
      "block_15_project_BN (BatchNorma (None, 7, 7, 160)    640         block_15_project[0][0]           \n",
      "__________________________________________________________________________________________________\n",
      "block_15_add (Add)              (None, 7, 7, 160)    0           block_14_add[0][0]               \n",
      "                                                                 block_15_project_BN[0][0]        \n",
      "__________________________________________________________________________________________________\n",
      "block_16_expand (Conv2D)        (None, 7, 7, 960)    153600      block_15_add[0][0]               \n",
      "__________________________________________________________________________________________________\n",
      "block_16_expand_BN (BatchNormal (None, 7, 7, 960)    3840        block_16_expand[0][0]            \n",
      "__________________________________________________________________________________________________\n",
      "block_16_expand_relu (ReLU)     (None, 7, 7, 960)    0           block_16_expand_BN[0][0]         \n",
      "__________________________________________________________________________________________________\n",
      "block_16_depthwise (DepthwiseCo (None, 7, 7, 960)    8640        block_16_expand_relu[0][0]       \n",
      "__________________________________________________________________________________________________\n",
      "block_16_depthwise_BN (BatchNor (None, 7, 7, 960)    3840        block_16_depthwise[0][0]         \n",
      "__________________________________________________________________________________________________\n",
      "block_16_depthwise_relu (ReLU)  (None, 7, 7, 960)    0           block_16_depthwise_BN[0][0]      \n",
      "__________________________________________________________________________________________________\n",
      "block_16_project (Conv2D)       (None, 7, 7, 320)    307200      block_16_depthwise_relu[0][0]    \n",
      "__________________________________________________________________________________________________\n",
      "block_16_project_BN (BatchNorma (None, 7, 7, 320)    1280        block_16_project[0][0]           \n",
      "__________________________________________________________________________________________________\n",
      "Conv_1 (Conv2D)                 (None, 7, 7, 1280)   409600      block_16_project_BN[0][0]        \n",
      "__________________________________________________________________________________________________\n",
      "Conv_1_bn (BatchNormalization)  (None, 7, 7, 1280)   5120        Conv_1[0][0]                     \n",
      "__________________________________________________________________________________________________\n",
      "out_relu (ReLU)                 (None, 7, 7, 1280)   0           Conv_1_bn[0][0]                  \n",
      "==================================================================================================\n",
      "Total params: 2,257,984\n",
      "Trainable params: 0\n",
      "Non-trainable params: 2,257,984\n",
      "__________________________________________________________________________________________________\n"
     ]
    }
   ],
   "source": [
    "conv_m = MobileNetV2(weights='imagenet', include_top=False, input_shape=(size, size, 3))\n",
    "conv_m.trainable = False\n",
    "conv_m.summary()"
   ]
  },
  {
   "cell_type": "code",
   "execution_count": 68,
   "metadata": {},
   "outputs": [
    {
     "name": "stdout",
     "output_type": "stream",
     "text": [
      "_________________________________________________________________\n",
      "Layer (type)                 Output Shape              Param #   \n",
      "=================================================================\n",
      "mobilenetv2_1.00_224 (Model) (None, 7, 7, 1280)        2257984   \n",
      "_________________________________________________________________\n",
      "average_pooling2d_23 (Averag (None, 1, 1, 1280)        0         \n",
      "_________________________________________________________________\n",
      "flatten_11 (Flatten)         (None, 1280)              0         \n",
      "_________________________________________________________________\n",
      "dense_26 (Dense)             (None, 64)                81984     \n",
      "_________________________________________________________________\n",
      "batch_normalization_24 (Batc (None, 64)                256       \n",
      "_________________________________________________________________\n",
      "dropout_27 (Dropout)         (None, 64)                0         \n",
      "_________________________________________________________________\n",
      "dense_27 (Dense)             (None, 2)                 130       \n",
      "=================================================================\n",
      "Total params: 2,340,354\n",
      "Trainable params: 82,242\n",
      "Non-trainable params: 2,258,112\n",
      "_________________________________________________________________\n"
     ]
    }
   ],
   "source": [
    "model = Sequential()\n",
    "model.add(conv_m)\n",
    "model.add(AveragePooling2D(pool_size=(7, 7)))\n",
    "model.add(Flatten())\n",
    "model.add(Dense(64, activation = \"relu\"))\n",
    "model.add(BatchNormalization()) \n",
    "model.add(Dropout(0.5))\n",
    "model.add(Dense(2, activation='softmax'))\n",
    "model.summary()"
   ]
  },
  {
   "cell_type": "code",
   "execution_count": 69,
   "metadata": {},
   "outputs": [],
   "source": [
    "checkpoint = ModelCheckpoint(\"weights{epoch:05d}.h5\", monitor='val_acc', verbose=1, save_best_only=True, mode='max')\n",
    "lr_reduce = ReduceLROnPlateau(monitor='val_loss', factor=np.sqrt(0.1), patience=5, verbose=1, cooldown=0, min_lr=0.5e-6)\n",
    "callbacks = [checkpoint, lr_reduce]\n",
    "\n",
    "model.compile(\n",
    "    loss='categorical_crossentropy',\n",
    "    optimizer=SGD(lr = 0.1, momentum = 0.9),\n",
    "    metrics=['accuracy']\n",
    ")"
   ]
  },
  {
   "cell_type": "code",
   "execution_count": 70,
   "metadata": {},
   "outputs": [
    {
     "name": "stdout",
     "output_type": "stream",
     "text": [
      "Epoch 1/30\n",
      "10/10 [==============================] - 60s 6s/step - loss: 0.8748 - acc: 0.6614 - val_loss: 2.4142 - val_acc: 0.5000\n",
      "\n",
      "Epoch 00001: val_acc improved from -inf to 0.50000, saving model to weights00001.h5\n",
      "Epoch 2/30\n",
      "10/10 [==============================] - 52s 5s/step - loss: 1.0802 - acc: 0.6136 - val_loss: 0.6840 - val_acc: 0.6000\n",
      "\n",
      "Epoch 00002: val_acc improved from 0.50000 to 0.60000, saving model to weights00002.h5\n",
      "Epoch 3/30\n",
      "10/10 [==============================] - 55s 6s/step - loss: 0.9907 - acc: 0.6517 - val_loss: 1.3308 - val_acc: 0.5000\n",
      "\n",
      "Epoch 00003: val_acc did not improve from 0.60000\n",
      "Epoch 4/30\n",
      "10/10 [==============================] - 52s 5s/step - loss: 1.1147 - acc: 0.6168 - val_loss: 0.7931 - val_acc: 0.6000\n",
      "\n",
      "Epoch 00004: val_acc did not improve from 0.60000\n",
      "Epoch 5/30\n",
      "10/10 [==============================] - 53s 5s/step - loss: 0.6867 - acc: 0.7749 - val_loss: 1.0617 - val_acc: 0.5000\n",
      "\n",
      "Epoch 00005: val_acc did not improve from 0.60000\n",
      "Epoch 6/30\n",
      "10/10 [==============================] - 52s 5s/step - loss: 0.6223 - acc: 0.7616 - val_loss: 1.8836 - val_acc: 0.5000\n",
      "\n",
      "Epoch 00006: val_acc did not improve from 0.60000\n",
      "Epoch 7/30\n",
      "10/10 [==============================] - 52s 5s/step - loss: 0.6224 - acc: 0.7384 - val_loss: 1.1018 - val_acc: 0.5667\n",
      "\n",
      "Epoch 00007: val_acc did not improve from 0.60000\n",
      "\n",
      "Epoch 00007: ReduceLROnPlateau reducing learning rate to 0.031622777072899885.\n",
      "Epoch 8/30\n",
      "10/10 [==============================] - 52s 5s/step - loss: 0.8314 - acc: 0.6603 - val_loss: 1.1792 - val_acc: 0.5000\n",
      "\n",
      "Epoch 00008: val_acc did not improve from 0.60000\n",
      "Epoch 9/30\n",
      "10/10 [==============================] - 52s 5s/step - loss: 0.6272 - acc: 0.6770 - val_loss: 0.6957 - val_acc: 0.5333\n",
      "\n",
      "Epoch 00009: val_acc did not improve from 0.60000\n",
      "Epoch 10/30\n",
      "10/10 [==============================] - 52s 5s/step - loss: 0.5972 - acc: 0.6737 - val_loss: 0.9547 - val_acc: 0.5333\n",
      "\n",
      "Epoch 00010: val_acc did not improve from 0.60000\n",
      "Epoch 11/30\n",
      "10/10 [==============================] - 52s 5s/step - loss: 0.4280 - acc: 0.8231 - val_loss: 1.4164 - val_acc: 0.5000\n",
      "\n",
      "Epoch 00011: val_acc did not improve from 0.60000\n",
      "Epoch 12/30\n",
      "10/10 [==============================] - 52s 5s/step - loss: 0.5276 - acc: 0.7303 - val_loss: 1.2679 - val_acc: 0.5000\n",
      "\n",
      "Epoch 00012: val_acc did not improve from 0.60000\n",
      "\n",
      "Epoch 00012: ReduceLROnPlateau reducing learning rate to 0.0100000006396062.\n",
      "Epoch 13/30\n",
      "10/10 [==============================] - 52s 5s/step - loss: 0.5277 - acc: 0.7635 - val_loss: 1.1458 - val_acc: 0.5000\n",
      "\n",
      "Epoch 00013: val_acc did not improve from 0.60000\n",
      "Epoch 14/30\n",
      "10/10 [==============================] - 52s 5s/step - loss: 0.4195 - acc: 0.8065 - val_loss: 1.1689 - val_acc: 0.5000\n",
      "\n",
      "Epoch 00014: val_acc did not improve from 0.60000\n",
      "Epoch 15/30\n",
      "10/10 [==============================] - 52s 5s/step - loss: 0.5169 - acc: 0.7586 - val_loss: 1.2020 - val_acc: 0.5000\n",
      "\n",
      "Epoch 00015: val_acc did not improve from 0.60000\n",
      "Epoch 16/30\n",
      " 9/10 [==========================>...] - ETA: 2s - loss: 0.4491 - acc: 0.7622"
     ]
    },
    {
     "ename": "KeyboardInterrupt",
     "evalue": "",
     "output_type": "error",
     "traceback": [
      "\u001b[0;31m---------------------------------------------------------------------------\u001b[0m",
      "\u001b[0;31mKeyboardInterrupt\u001b[0m                         Traceback (most recent call last)",
      "\u001b[0;32m<ipython-input-70-2e30fb546370>\u001b[0m in \u001b[0;36m<module>\u001b[0;34m\u001b[0m\n\u001b[1;32m      6\u001b[0m     \u001b[0msteps_per_epoch\u001b[0m\u001b[0;34m=\u001b[0m\u001b[0;36m10\u001b[0m\u001b[0;34m,\u001b[0m\u001b[0;34m\u001b[0m\u001b[0;34m\u001b[0m\u001b[0m\n\u001b[1;32m      7\u001b[0m     \u001b[0mvalidation_data\u001b[0m\u001b[0;34m=\u001b[0m\u001b[0mvalidation_generator\u001b[0m\u001b[0;34m,\u001b[0m\u001b[0;34m\u001b[0m\u001b[0;34m\u001b[0m\u001b[0m\n\u001b[0;32m----> 8\u001b[0;31m     \u001b[0mvalidation_steps\u001b[0m\u001b[0;34m=\u001b[0m\u001b[0;36m10\u001b[0m\u001b[0;34m\u001b[0m\u001b[0;34m\u001b[0m\u001b[0m\n\u001b[0m\u001b[1;32m      9\u001b[0m )\n",
      "\u001b[0;32m~/anaconda3/lib/python3.7/site-packages/keras/legacy/interfaces.py\u001b[0m in \u001b[0;36mwrapper\u001b[0;34m(*args, **kwargs)\u001b[0m\n\u001b[1;32m     89\u001b[0m                 warnings.warn('Update your `' + object_name + '` call to the ' +\n\u001b[1;32m     90\u001b[0m                               'Keras 2 API: ' + signature, stacklevel=2)\n\u001b[0;32m---> 91\u001b[0;31m             \u001b[0;32mreturn\u001b[0m \u001b[0mfunc\u001b[0m\u001b[0;34m(\u001b[0m\u001b[0;34m*\u001b[0m\u001b[0margs\u001b[0m\u001b[0;34m,\u001b[0m \u001b[0;34m**\u001b[0m\u001b[0mkwargs\u001b[0m\u001b[0;34m)\u001b[0m\u001b[0;34m\u001b[0m\u001b[0;34m\u001b[0m\u001b[0m\n\u001b[0m\u001b[1;32m     92\u001b[0m         \u001b[0mwrapper\u001b[0m\u001b[0;34m.\u001b[0m\u001b[0m_original_function\u001b[0m \u001b[0;34m=\u001b[0m \u001b[0mfunc\u001b[0m\u001b[0;34m\u001b[0m\u001b[0;34m\u001b[0m\u001b[0m\n\u001b[1;32m     93\u001b[0m         \u001b[0;32mreturn\u001b[0m \u001b[0mwrapper\u001b[0m\u001b[0;34m\u001b[0m\u001b[0;34m\u001b[0m\u001b[0m\n",
      "\u001b[0;32m~/anaconda3/lib/python3.7/site-packages/keras/engine/training.py\u001b[0m in \u001b[0;36mfit_generator\u001b[0;34m(self, generator, steps_per_epoch, epochs, verbose, callbacks, validation_data, validation_steps, class_weight, max_queue_size, workers, use_multiprocessing, shuffle, initial_epoch)\u001b[0m\n\u001b[1;32m   1416\u001b[0m             \u001b[0muse_multiprocessing\u001b[0m\u001b[0;34m=\u001b[0m\u001b[0muse_multiprocessing\u001b[0m\u001b[0;34m,\u001b[0m\u001b[0;34m\u001b[0m\u001b[0;34m\u001b[0m\u001b[0m\n\u001b[1;32m   1417\u001b[0m             \u001b[0mshuffle\u001b[0m\u001b[0;34m=\u001b[0m\u001b[0mshuffle\u001b[0m\u001b[0;34m,\u001b[0m\u001b[0;34m\u001b[0m\u001b[0;34m\u001b[0m\u001b[0m\n\u001b[0;32m-> 1418\u001b[0;31m             initial_epoch=initial_epoch)\n\u001b[0m\u001b[1;32m   1419\u001b[0m \u001b[0;34m\u001b[0m\u001b[0m\n\u001b[1;32m   1420\u001b[0m     \u001b[0;34m@\u001b[0m\u001b[0minterfaces\u001b[0m\u001b[0;34m.\u001b[0m\u001b[0mlegacy_generator_methods_support\u001b[0m\u001b[0;34m\u001b[0m\u001b[0;34m\u001b[0m\u001b[0m\n",
      "\u001b[0;32m~/anaconda3/lib/python3.7/site-packages/keras/engine/training_generator.py\u001b[0m in \u001b[0;36mfit_generator\u001b[0;34m(model, generator, steps_per_epoch, epochs, verbose, callbacks, validation_data, validation_steps, class_weight, max_queue_size, workers, use_multiprocessing, shuffle, initial_epoch)\u001b[0m\n\u001b[1;32m    232\u001b[0m                             \u001b[0mval_enqueuer_gen\u001b[0m\u001b[0;34m,\u001b[0m\u001b[0;34m\u001b[0m\u001b[0;34m\u001b[0m\u001b[0m\n\u001b[1;32m    233\u001b[0m                             \u001b[0mvalidation_steps\u001b[0m\u001b[0;34m,\u001b[0m\u001b[0;34m\u001b[0m\u001b[0;34m\u001b[0m\u001b[0m\n\u001b[0;32m--> 234\u001b[0;31m                             workers=0)\n\u001b[0m\u001b[1;32m    235\u001b[0m                     \u001b[0;32melse\u001b[0m\u001b[0;34m:\u001b[0m\u001b[0;34m\u001b[0m\u001b[0;34m\u001b[0m\u001b[0m\n\u001b[1;32m    236\u001b[0m                         \u001b[0;31m# No need for try/except because\u001b[0m\u001b[0;34m\u001b[0m\u001b[0;34m\u001b[0m\u001b[0;34m\u001b[0m\u001b[0m\n",
      "\u001b[0;32m~/anaconda3/lib/python3.7/site-packages/keras/legacy/interfaces.py\u001b[0m in \u001b[0;36mwrapper\u001b[0;34m(*args, **kwargs)\u001b[0m\n\u001b[1;32m     89\u001b[0m                 warnings.warn('Update your `' + object_name + '` call to the ' +\n\u001b[1;32m     90\u001b[0m                               'Keras 2 API: ' + signature, stacklevel=2)\n\u001b[0;32m---> 91\u001b[0;31m             \u001b[0;32mreturn\u001b[0m \u001b[0mfunc\u001b[0m\u001b[0;34m(\u001b[0m\u001b[0;34m*\u001b[0m\u001b[0margs\u001b[0m\u001b[0;34m,\u001b[0m \u001b[0;34m**\u001b[0m\u001b[0mkwargs\u001b[0m\u001b[0;34m)\u001b[0m\u001b[0;34m\u001b[0m\u001b[0;34m\u001b[0m\u001b[0m\n\u001b[0m\u001b[1;32m     92\u001b[0m         \u001b[0mwrapper\u001b[0m\u001b[0;34m.\u001b[0m\u001b[0m_original_function\u001b[0m \u001b[0;34m=\u001b[0m \u001b[0mfunc\u001b[0m\u001b[0;34m\u001b[0m\u001b[0;34m\u001b[0m\u001b[0m\n\u001b[1;32m     93\u001b[0m         \u001b[0;32mreturn\u001b[0m \u001b[0mwrapper\u001b[0m\u001b[0;34m\u001b[0m\u001b[0;34m\u001b[0m\u001b[0m\n",
      "\u001b[0;32m~/anaconda3/lib/python3.7/site-packages/keras/engine/training.py\u001b[0m in \u001b[0;36mevaluate_generator\u001b[0;34m(self, generator, steps, max_queue_size, workers, use_multiprocessing, verbose)\u001b[0m\n\u001b[1;32m   1470\u001b[0m             \u001b[0mworkers\u001b[0m\u001b[0;34m=\u001b[0m\u001b[0mworkers\u001b[0m\u001b[0;34m,\u001b[0m\u001b[0;34m\u001b[0m\u001b[0;34m\u001b[0m\u001b[0m\n\u001b[1;32m   1471\u001b[0m             \u001b[0muse_multiprocessing\u001b[0m\u001b[0;34m=\u001b[0m\u001b[0muse_multiprocessing\u001b[0m\u001b[0;34m,\u001b[0m\u001b[0;34m\u001b[0m\u001b[0;34m\u001b[0m\u001b[0m\n\u001b[0;32m-> 1472\u001b[0;31m             verbose=verbose)\n\u001b[0m\u001b[1;32m   1473\u001b[0m \u001b[0;34m\u001b[0m\u001b[0m\n\u001b[1;32m   1474\u001b[0m     \u001b[0;34m@\u001b[0m\u001b[0minterfaces\u001b[0m\u001b[0;34m.\u001b[0m\u001b[0mlegacy_generator_methods_support\u001b[0m\u001b[0;34m\u001b[0m\u001b[0;34m\u001b[0m\u001b[0m\n",
      "\u001b[0;32m~/anaconda3/lib/python3.7/site-packages/keras/engine/training_generator.py\u001b[0m in \u001b[0;36mevaluate_generator\u001b[0;34m(model, generator, steps, max_queue_size, workers, use_multiprocessing, verbose)\u001b[0m\n\u001b[1;32m    344\u001b[0m                                  \u001b[0;34m'or (x, y). Found: '\u001b[0m \u001b[0;34m+\u001b[0m\u001b[0;34m\u001b[0m\u001b[0;34m\u001b[0m\u001b[0m\n\u001b[1;32m    345\u001b[0m                                  str(generator_output))\n\u001b[0;32m--> 346\u001b[0;31m             \u001b[0mouts\u001b[0m \u001b[0;34m=\u001b[0m \u001b[0mmodel\u001b[0m\u001b[0;34m.\u001b[0m\u001b[0mtest_on_batch\u001b[0m\u001b[0;34m(\u001b[0m\u001b[0mx\u001b[0m\u001b[0;34m,\u001b[0m \u001b[0my\u001b[0m\u001b[0;34m,\u001b[0m \u001b[0msample_weight\u001b[0m\u001b[0;34m=\u001b[0m\u001b[0msample_weight\u001b[0m\u001b[0;34m)\u001b[0m\u001b[0;34m\u001b[0m\u001b[0;34m\u001b[0m\u001b[0m\n\u001b[0m\u001b[1;32m    347\u001b[0m             \u001b[0mouts\u001b[0m \u001b[0;34m=\u001b[0m \u001b[0mto_list\u001b[0m\u001b[0;34m(\u001b[0m\u001b[0mouts\u001b[0m\u001b[0;34m)\u001b[0m\u001b[0;34m\u001b[0m\u001b[0;34m\u001b[0m\u001b[0m\n\u001b[1;32m    348\u001b[0m             \u001b[0mouts_per_batch\u001b[0m\u001b[0;34m.\u001b[0m\u001b[0mappend\u001b[0m\u001b[0;34m(\u001b[0m\u001b[0mouts\u001b[0m\u001b[0;34m)\u001b[0m\u001b[0;34m\u001b[0m\u001b[0;34m\u001b[0m\u001b[0m\n",
      "\u001b[0;32m~/anaconda3/lib/python3.7/site-packages/keras/engine/training.py\u001b[0m in \u001b[0;36mtest_on_batch\u001b[0;34m(self, x, y, sample_weight)\u001b[0m\n\u001b[1;32m   1254\u001b[0m             \u001b[0mins\u001b[0m \u001b[0;34m=\u001b[0m \u001b[0mx\u001b[0m \u001b[0;34m+\u001b[0m \u001b[0my\u001b[0m \u001b[0;34m+\u001b[0m \u001b[0msample_weights\u001b[0m\u001b[0;34m\u001b[0m\u001b[0;34m\u001b[0m\u001b[0m\n\u001b[1;32m   1255\u001b[0m         \u001b[0mself\u001b[0m\u001b[0;34m.\u001b[0m\u001b[0m_make_test_function\u001b[0m\u001b[0;34m(\u001b[0m\u001b[0;34m)\u001b[0m\u001b[0;34m\u001b[0m\u001b[0;34m\u001b[0m\u001b[0m\n\u001b[0;32m-> 1256\u001b[0;31m         \u001b[0moutputs\u001b[0m \u001b[0;34m=\u001b[0m \u001b[0mself\u001b[0m\u001b[0;34m.\u001b[0m\u001b[0mtest_function\u001b[0m\u001b[0;34m(\u001b[0m\u001b[0mins\u001b[0m\u001b[0;34m)\u001b[0m\u001b[0;34m\u001b[0m\u001b[0;34m\u001b[0m\u001b[0m\n\u001b[0m\u001b[1;32m   1257\u001b[0m         \u001b[0;32mreturn\u001b[0m \u001b[0munpack_singleton\u001b[0m\u001b[0;34m(\u001b[0m\u001b[0moutputs\u001b[0m\u001b[0;34m)\u001b[0m\u001b[0;34m\u001b[0m\u001b[0;34m\u001b[0m\u001b[0m\n\u001b[1;32m   1258\u001b[0m \u001b[0;34m\u001b[0m\u001b[0m\n",
      "\u001b[0;32m~/anaconda3/lib/python3.7/site-packages/keras/backend/tensorflow_backend.py\u001b[0m in \u001b[0;36m__call__\u001b[0;34m(self, inputs)\u001b[0m\n\u001b[1;32m   2713\u001b[0m                 \u001b[0;32mreturn\u001b[0m \u001b[0mself\u001b[0m\u001b[0;34m.\u001b[0m\u001b[0m_legacy_call\u001b[0m\u001b[0;34m(\u001b[0m\u001b[0minputs\u001b[0m\u001b[0;34m)\u001b[0m\u001b[0;34m\u001b[0m\u001b[0;34m\u001b[0m\u001b[0m\n\u001b[1;32m   2714\u001b[0m \u001b[0;34m\u001b[0m\u001b[0m\n\u001b[0;32m-> 2715\u001b[0;31m             \u001b[0;32mreturn\u001b[0m \u001b[0mself\u001b[0m\u001b[0;34m.\u001b[0m\u001b[0m_call\u001b[0m\u001b[0;34m(\u001b[0m\u001b[0minputs\u001b[0m\u001b[0;34m)\u001b[0m\u001b[0;34m\u001b[0m\u001b[0;34m\u001b[0m\u001b[0m\n\u001b[0m\u001b[1;32m   2716\u001b[0m         \u001b[0;32melse\u001b[0m\u001b[0;34m:\u001b[0m\u001b[0;34m\u001b[0m\u001b[0;34m\u001b[0m\u001b[0m\n\u001b[1;32m   2717\u001b[0m             \u001b[0;32mif\u001b[0m \u001b[0mpy_any\u001b[0m\u001b[0;34m(\u001b[0m\u001b[0mis_tensor\u001b[0m\u001b[0;34m(\u001b[0m\u001b[0mx\u001b[0m\u001b[0;34m)\u001b[0m \u001b[0;32mfor\u001b[0m \u001b[0mx\u001b[0m \u001b[0;32min\u001b[0m \u001b[0minputs\u001b[0m\u001b[0;34m)\u001b[0m\u001b[0;34m:\u001b[0m\u001b[0;34m\u001b[0m\u001b[0;34m\u001b[0m\u001b[0m\n",
      "\u001b[0;32m~/anaconda3/lib/python3.7/site-packages/keras/backend/tensorflow_backend.py\u001b[0m in \u001b[0;36m_call\u001b[0;34m(self, inputs)\u001b[0m\n\u001b[1;32m   2673\u001b[0m             \u001b[0mfetched\u001b[0m \u001b[0;34m=\u001b[0m \u001b[0mself\u001b[0m\u001b[0;34m.\u001b[0m\u001b[0m_callable_fn\u001b[0m\u001b[0;34m(\u001b[0m\u001b[0;34m*\u001b[0m\u001b[0marray_vals\u001b[0m\u001b[0;34m,\u001b[0m \u001b[0mrun_metadata\u001b[0m\u001b[0;34m=\u001b[0m\u001b[0mself\u001b[0m\u001b[0;34m.\u001b[0m\u001b[0mrun_metadata\u001b[0m\u001b[0;34m)\u001b[0m\u001b[0;34m\u001b[0m\u001b[0;34m\u001b[0m\u001b[0m\n\u001b[1;32m   2674\u001b[0m         \u001b[0;32melse\u001b[0m\u001b[0;34m:\u001b[0m\u001b[0;34m\u001b[0m\u001b[0;34m\u001b[0m\u001b[0m\n\u001b[0;32m-> 2675\u001b[0;31m             \u001b[0mfetched\u001b[0m \u001b[0;34m=\u001b[0m \u001b[0mself\u001b[0m\u001b[0;34m.\u001b[0m\u001b[0m_callable_fn\u001b[0m\u001b[0;34m(\u001b[0m\u001b[0;34m*\u001b[0m\u001b[0marray_vals\u001b[0m\u001b[0;34m)\u001b[0m\u001b[0;34m\u001b[0m\u001b[0;34m\u001b[0m\u001b[0m\n\u001b[0m\u001b[1;32m   2676\u001b[0m         \u001b[0;32mreturn\u001b[0m \u001b[0mfetched\u001b[0m\u001b[0;34m[\u001b[0m\u001b[0;34m:\u001b[0m\u001b[0mlen\u001b[0m\u001b[0;34m(\u001b[0m\u001b[0mself\u001b[0m\u001b[0;34m.\u001b[0m\u001b[0moutputs\u001b[0m\u001b[0;34m)\u001b[0m\u001b[0;34m]\u001b[0m\u001b[0;34m\u001b[0m\u001b[0;34m\u001b[0m\u001b[0m\n\u001b[1;32m   2677\u001b[0m \u001b[0;34m\u001b[0m\u001b[0m\n",
      "\u001b[0;32m~/anaconda3/lib/python3.7/site-packages/tensorflow/python/client/session.py\u001b[0m in \u001b[0;36m__call__\u001b[0;34m(self, *args, **kwargs)\u001b[0m\n\u001b[1;32m   1456\u001b[0m         ret = tf_session.TF_SessionRunCallable(self._session._session,\n\u001b[1;32m   1457\u001b[0m                                                \u001b[0mself\u001b[0m\u001b[0;34m.\u001b[0m\u001b[0m_handle\u001b[0m\u001b[0;34m,\u001b[0m \u001b[0margs\u001b[0m\u001b[0;34m,\u001b[0m\u001b[0;34m\u001b[0m\u001b[0;34m\u001b[0m\u001b[0m\n\u001b[0;32m-> 1458\u001b[0;31m                                                run_metadata_ptr)\n\u001b[0m\u001b[1;32m   1459\u001b[0m         \u001b[0;32mif\u001b[0m \u001b[0mrun_metadata\u001b[0m\u001b[0;34m:\u001b[0m\u001b[0;34m\u001b[0m\u001b[0;34m\u001b[0m\u001b[0m\n\u001b[1;32m   1460\u001b[0m           \u001b[0mproto_data\u001b[0m \u001b[0;34m=\u001b[0m \u001b[0mtf_session\u001b[0m\u001b[0;34m.\u001b[0m\u001b[0mTF_GetBuffer\u001b[0m\u001b[0;34m(\u001b[0m\u001b[0mrun_metadata_ptr\u001b[0m\u001b[0;34m)\u001b[0m\u001b[0;34m\u001b[0m\u001b[0;34m\u001b[0m\u001b[0m\n",
      "\u001b[0;31mKeyboardInterrupt\u001b[0m: "
     ]
    }
   ],
   "source": [
    "start = datetime.now()\n",
    "history = model.fit_generator(\n",
    "    train_generator,\n",
    "    callbacks=callbacks,\n",
    "    epochs=30,\n",
    "    steps_per_epoch=10,\n",
    "    validation_data=validation_generator,\n",
    "    validation_steps=2\n",
    ")"
   ]
  },
  {
   "cell_type": "code",
   "execution_count": 72,
   "metadata": {},
   "outputs": [
    {
     "name": "stdout",
     "output_type": "stream",
     "text": [
      "So the maximum Accuracy on Test was 60%\n"
     ]
    }
   ],
   "source": [
    "print(\"So the maximum Accuracy on Test was 60%\")"
   ]
  },
  {
   "cell_type": "code",
   "execution_count": 13,
   "metadata": {},
   "outputs": [],
   "source": [
    "path = val[1]\n",
    "trainingPath = os.path.sep.join([path, \"training\"])\n",
    "testingPath = os.path.sep.join([path, \"testing\"])\n",
    "\n",
    "# loading the training and testing data\n",
    "(X_train, X_test) = load_split(trainingPath)\n",
    "(y_train, y_test) = load_split(testingPath)\n",
    "\n",
    "# # encode the labels as integers\n",
    "le = LabelEncoder()\n",
    "X_test = le.fit_transform(X_test)\n",
    "y_test = le.transform(y_test)"
   ]
  },
  {
   "cell_type": "code",
   "execution_count": 157,
   "metadata": {},
   "outputs": [],
   "source": [
    "maping = {\"healthy\" : np.array([1,0]), \"parkinson\" : np.array([0,1])}"
   ]
  },
  {
   "cell_type": "code",
   "execution_count": 162,
   "metadata": {},
   "outputs": [],
   "source": [
    "def convert(val):\n",
    "    out = np.empty_like(val, dtype=object)\n",
    "    for i in range(val.shape[0]):\n",
    "        if X_test[i] ==\"healthy\":\n",
    "            out[i] = maping[\"healthy\"]\n",
    "        else:\n",
    "            out[i] = maping[\"parkinson\"]\n",
    "    return out"
   ]
  },
  {
   "cell_type": "code",
   "execution_count": 183,
   "metadata": {},
   "outputs": [
    {
     "data": {
      "text/plain": [
       "(72,)"
      ]
     },
     "execution_count": 183,
     "metadata": {},
     "output_type": "execute_result"
    }
   ],
   "source": [
    "X_test.shape"
   ]
  },
  {
   "cell_type": "code",
   "execution_count": null,
   "metadata": {},
   "outputs": [],
   "source": []
  },
  {
   "cell_type": "code",
   "execution_count": null,
   "metadata": {},
   "outputs": [],
   "source": []
  },
  {
   "cell_type": "code",
   "execution_count": 14,
   "metadata": {},
   "outputs": [
    {
     "data": {
      "text/plain": [
       "((72, 12996), (30, 12996), (72,), (30,))"
      ]
     },
     "execution_count": 14,
     "metadata": {},
     "output_type": "execute_result"
    }
   ],
   "source": [
    "X_train.shape, y_train.shape, X_test.shape, y_test.shape"
   ]
  },
  {
   "cell_type": "code",
   "execution_count": 41,
   "metadata": {},
   "outputs": [
    {
     "name": "stdout",
     "output_type": "stream",
     "text": [
      "_________________________________________________________________\n",
      "Layer (type)                 Output Shape              Param #   \n",
      "=================================================================\n",
      "dense_13 (Dense)             (None, 30)                389910    \n",
      "_________________________________________________________________\n",
      "dropout_9 (Dropout)          (None, 30)                0         \n",
      "_________________________________________________________________\n",
      "dense_14 (Dense)             (None, 30)                930       \n",
      "_________________________________________________________________\n",
      "dropout_10 (Dropout)         (None, 30)                0         \n",
      "_________________________________________________________________\n",
      "dense_15 (Dense)             (None, 1)                 31        \n",
      "=================================================================\n",
      "Total params: 390,871\n",
      "Trainable params: 390,871\n",
      "Non-trainable params: 0\n",
      "_________________________________________________________________\n"
     ]
    }
   ],
   "source": [
    "model = Sequential()\n",
    "#get number of columns in training data\n",
    "n_cols = X_train.shape[1]\n",
    "model.add(Dense(30, activation='relu', input_dim = n_cols))\n",
    "model.add(Dropout(0.3))\n",
    "model.add(Dense(30, activation='relu'))\n",
    "model.add(Dropout(0.3))\n",
    "model.add(Dense(1, activation='sigmoid'))\n",
    "model.summary()"
   ]
  },
  {
   "cell_type": "code",
   "execution_count": 42,
   "metadata": {},
   "outputs": [],
   "source": [
    "model.compile(optimizer='adam', loss='binary_crossentropy', metrics =['accuracy'])\n",
    "lr_reduce = ReduceLROnPlateau(monitor='val_loss', factor=np.sqrt(0.1), patience=5, verbose=1, cooldown=0, min_lr=0.5e-6)\n",
    "checkpoint = ModelCheckpoint(\"weights{epoch:05d}.h5\", monitor='val_acc', verbose=1, save_best_only=True, mode='max')\n",
    "callbacks = [checkpoint, lr_reduce]\n"
   ]
  },
  {
   "cell_type": "code",
   "execution_count": 43,
   "metadata": {},
   "outputs": [
    {
     "name": "stdout",
     "output_type": "stream",
     "text": [
      "Train on 57 samples, validate on 15 samples\n",
      "Epoch 1/50\n",
      "57/57 [==============================] - 1s 16ms/step - loss: 0.7039 - acc: 0.5263 - val_loss: 1.0182 - val_acc: 0.0000e+00\n",
      "\n",
      "Epoch 00001: val_acc improved from -inf to 0.00000, saving model to weights00001.h5\n",
      "Epoch 2/50\n",
      "57/57 [==============================] - 0s 4ms/step - loss: 0.5333 - acc: 0.7193 - val_loss: 0.6933 - val_acc: 0.6000\n",
      "\n",
      "Epoch 00002: val_acc improved from 0.00000 to 0.60000, saving model to weights00002.h5\n",
      "Epoch 3/50\n",
      "57/57 [==============================] - 0s 4ms/step - loss: 0.5256 - acc: 0.7719 - val_loss: 0.9239 - val_acc: 0.2667\n",
      "\n",
      "Epoch 00003: val_acc did not improve from 0.60000\n",
      "Epoch 4/50\n",
      "57/57 [==============================] - 0s 4ms/step - loss: 0.4070 - acc: 0.7544 - val_loss: 0.4986 - val_acc: 0.8667\n",
      "\n",
      "Epoch 00004: val_acc improved from 0.60000 to 0.86667, saving model to weights00004.h5\n",
      "Epoch 5/50\n",
      "57/57 [==============================] - 0s 4ms/step - loss: 0.2840 - acc: 0.8947 - val_loss: 0.6965 - val_acc: 0.6000\n",
      "\n",
      "Epoch 00005: val_acc did not improve from 0.86667\n",
      "Epoch 6/50\n",
      "57/57 [==============================] - 0s 5ms/step - loss: 0.2759 - acc: 0.9123 - val_loss: 0.4445 - val_acc: 0.8667\n",
      "\n",
      "Epoch 00006: val_acc did not improve from 0.86667\n",
      "Epoch 7/50\n",
      "57/57 [==============================] - 0s 4ms/step - loss: 0.1971 - acc: 0.9474 - val_loss: 0.7421 - val_acc: 0.6000\n",
      "\n",
      "Epoch 00007: val_acc did not improve from 0.86667\n",
      "Epoch 8/50\n",
      "57/57 [==============================] - 0s 4ms/step - loss: 0.1861 - acc: 0.8947 - val_loss: 0.7875 - val_acc: 0.6000\n",
      "\n",
      "Epoch 00008: val_acc did not improve from 0.86667\n",
      "Epoch 9/50\n",
      "57/57 [==============================] - 0s 4ms/step - loss: 0.0772 - acc: 1.0000 - val_loss: 0.4872 - val_acc: 0.7333\n",
      "\n",
      "Epoch 00009: val_acc did not improve from 0.86667\n",
      "Epoch 10/50\n",
      "57/57 [==============================] - 0s 5ms/step - loss: 0.0950 - acc: 0.9825 - val_loss: 0.6367 - val_acc: 0.6667\n",
      "\n",
      "Epoch 00010: val_acc did not improve from 0.86667\n",
      "Epoch 11/50\n",
      "57/57 [==============================] - 0s 4ms/step - loss: 0.0540 - acc: 1.0000 - val_loss: 0.4334 - val_acc: 0.8667\n",
      "\n",
      "Epoch 00011: val_acc did not improve from 0.86667\n",
      "Epoch 12/50\n",
      "57/57 [==============================] - 0s 4ms/step - loss: 0.0643 - acc: 0.9825 - val_loss: 0.2825 - val_acc: 0.8667\n",
      "\n",
      "Epoch 00012: val_acc did not improve from 0.86667\n",
      "Epoch 13/50\n",
      "57/57 [==============================] - 0s 5ms/step - loss: 0.0689 - acc: 0.9825 - val_loss: 0.4225 - val_acc: 0.8667\n",
      "\n",
      "Epoch 00013: val_acc did not improve from 0.86667\n",
      "Epoch 14/50\n",
      "57/57 [==============================] - 0s 4ms/step - loss: 0.0574 - acc: 0.9825 - val_loss: 0.4032 - val_acc: 0.8667\n",
      "\n",
      "Epoch 00014: val_acc did not improve from 0.86667\n",
      "Epoch 15/50\n",
      "57/57 [==============================] - 0s 4ms/step - loss: 0.0341 - acc: 1.0000 - val_loss: 0.7569 - val_acc: 0.7333\n",
      "\n",
      "Epoch 00015: val_acc did not improve from 0.86667\n",
      "Epoch 16/50\n",
      "57/57 [==============================] - 0s 5ms/step - loss: 0.0313 - acc: 0.9825 - val_loss: 1.1380 - val_acc: 0.5333\n",
      "\n",
      "Epoch 00016: val_acc did not improve from 0.86667\n",
      "Epoch 17/50\n",
      "57/57 [==============================] - 0s 5ms/step - loss: 0.0301 - acc: 1.0000 - val_loss: 0.9015 - val_acc: 0.6000\n",
      "\n",
      "Epoch 00017: val_acc did not improve from 0.86667\n",
      "\n",
      "Epoch 00017: ReduceLROnPlateau reducing learning rate to 0.00031622778103685084.\n",
      "Epoch 18/50\n",
      "57/57 [==============================] - 0s 4ms/step - loss: 0.0142 - acc: 1.0000 - val_loss: 0.6980 - val_acc: 0.7333\n",
      "\n",
      "Epoch 00018: val_acc did not improve from 0.86667\n",
      "Epoch 19/50\n",
      "57/57 [==============================] - 0s 4ms/step - loss: 0.0197 - acc: 1.0000 - val_loss: 0.7580 - val_acc: 0.7333\n",
      "\n",
      "Epoch 00019: val_acc did not improve from 0.86667\n",
      "Epoch 20/50\n",
      "57/57 [==============================] - 0s 5ms/step - loss: 0.0124 - acc: 1.0000 - val_loss: 0.7242 - val_acc: 0.7333\n",
      "\n",
      "Epoch 00020: val_acc did not improve from 0.86667\n",
      "Epoch 21/50\n",
      "57/57 [==============================] - 0s 4ms/step - loss: 0.0283 - acc: 1.0000 - val_loss: 0.7842 - val_acc: 0.6667\n",
      "\n",
      "Epoch 00021: val_acc did not improve from 0.86667\n",
      "Epoch 22/50\n",
      "57/57 [==============================] - 0s 5ms/step - loss: 0.0317 - acc: 1.0000 - val_loss: 0.6805 - val_acc: 0.7333\n",
      "\n",
      "Epoch 00022: val_acc did not improve from 0.86667\n",
      "\n",
      "Epoch 00022: ReduceLROnPlateau reducing learning rate to 0.00010000000639606199.\n",
      "Epoch 23/50\n",
      "57/57 [==============================] - 0s 4ms/step - loss: 0.0184 - acc: 1.0000 - val_loss: 0.6907 - val_acc: 0.7333\n",
      "\n",
      "Epoch 00023: val_acc did not improve from 0.86667\n",
      "Epoch 24/50\n",
      "57/57 [==============================] - 0s 6ms/step - loss: 0.0166 - acc: 1.0000 - val_loss: 0.6901 - val_acc: 0.7333\n",
      "\n",
      "Epoch 00024: val_acc did not improve from 0.86667\n",
      "Epoch 25/50\n",
      "57/57 [==============================] - 0s 4ms/step - loss: 0.0157 - acc: 1.0000 - val_loss: 0.6659 - val_acc: 0.7333\n",
      "\n",
      "Epoch 00025: val_acc did not improve from 0.86667\n",
      "Epoch 26/50\n",
      "57/57 [==============================] - 0s 4ms/step - loss: 0.0497 - acc: 0.9825 - val_loss: 0.6482 - val_acc: 0.7333\n",
      "\n",
      "Epoch 00026: val_acc did not improve from 0.86667\n",
      "Epoch 27/50\n",
      "57/57 [==============================] - 0s 5ms/step - loss: 0.0185 - acc: 1.0000 - val_loss: 0.5778 - val_acc: 0.7333\n",
      "\n",
      "Epoch 00027: val_acc did not improve from 0.86667\n",
      "\n",
      "Epoch 00027: ReduceLROnPlateau reducing learning rate to 3.1622778103685084e-05.\n",
      "Epoch 28/50\n",
      "57/57 [==============================] - 0s 5ms/step - loss: 0.0093 - acc: 1.0000 - val_loss: 0.5718 - val_acc: 0.8000\n",
      "\n",
      "Epoch 00028: val_acc did not improve from 0.86667\n",
      "Epoch 29/50\n",
      "57/57 [==============================] - 0s 4ms/step - loss: 0.0073 - acc: 1.0000 - val_loss: 0.5700 - val_acc: 0.8000\n",
      "\n",
      "Epoch 00029: val_acc did not improve from 0.86667\n",
      "Epoch 30/50\n",
      "57/57 [==============================] - 0s 5ms/step - loss: 0.0274 - acc: 1.0000 - val_loss: 0.5926 - val_acc: 0.7333\n",
      "\n",
      "Epoch 00030: val_acc did not improve from 0.86667\n",
      "Epoch 31/50\n",
      "57/57 [==============================] - 0s 4ms/step - loss: 0.0092 - acc: 1.0000 - val_loss: 0.5908 - val_acc: 0.7333\n",
      "\n",
      "Epoch 00031: val_acc did not improve from 0.86667\n",
      "Epoch 32/50\n",
      "57/57 [==============================] - 0s 4ms/step - loss: 0.0221 - acc: 1.0000 - val_loss: 0.5736 - val_acc: 0.8000\n",
      "\n",
      "Epoch 00032: val_acc did not improve from 0.86667\n",
      "\n",
      "Epoch 00032: ReduceLROnPlateau reducing learning rate to 1.0000000409520217e-05.\n",
      "Epoch 33/50\n",
      "57/57 [==============================] - 0s 4ms/step - loss: 0.0141 - acc: 1.0000 - val_loss: 0.5694 - val_acc: 0.8000\n",
      "\n",
      "Epoch 00033: val_acc did not improve from 0.86667\n",
      "Epoch 34/50\n",
      "57/57 [==============================] - 0s 4ms/step - loss: 0.0211 - acc: 0.9825 - val_loss: 0.5706 - val_acc: 0.8000\n",
      "\n",
      "Epoch 00034: val_acc did not improve from 0.86667\n",
      "Epoch 35/50\n",
      "57/57 [==============================] - 0s 5ms/step - loss: 0.0119 - acc: 1.0000 - val_loss: 0.5720 - val_acc: 0.8000\n",
      "\n",
      "Epoch 00035: val_acc did not improve from 0.86667\n",
      "Epoch 36/50\n",
      "57/57 [==============================] - 0s 4ms/step - loss: 0.0303 - acc: 1.0000 - val_loss: 0.5676 - val_acc: 0.8000\n",
      "\n",
      "Epoch 00036: val_acc did not improve from 0.86667\n",
      "Epoch 37/50\n",
      "57/57 [==============================] - 0s 4ms/step - loss: 0.0155 - acc: 1.0000 - val_loss: 0.5636 - val_acc: 0.8000\n",
      "\n",
      "Epoch 00037: val_acc did not improve from 0.86667\n",
      "\n",
      "Epoch 00037: ReduceLROnPlateau reducing learning rate to 3.1622778678900043e-06.\n",
      "Epoch 38/50\n",
      "57/57 [==============================] - 0s 5ms/step - loss: 0.0315 - acc: 1.0000 - val_loss: 0.5648 - val_acc: 0.8000\n",
      "\n",
      "Epoch 00038: val_acc did not improve from 0.86667\n",
      "Epoch 39/50\n",
      "57/57 [==============================] - 0s 4ms/step - loss: 0.0095 - acc: 1.0000 - val_loss: 0.5654 - val_acc: 0.8000\n",
      "\n",
      "Epoch 00039: val_acc did not improve from 0.86667\n",
      "Epoch 40/50\n",
      "57/57 [==============================] - 0s 4ms/step - loss: 0.0365 - acc: 0.9825 - val_loss: 0.5667 - val_acc: 0.8000\n",
      "\n",
      "Epoch 00040: val_acc did not improve from 0.86667\n",
      "Epoch 41/50\n",
      "57/57 [==============================] - 0s 5ms/step - loss: 0.0143 - acc: 1.0000 - val_loss: 0.5665 - val_acc: 0.8000\n",
      "\n",
      "Epoch 00041: val_acc did not improve from 0.86667\n",
      "Epoch 42/50\n",
      "57/57 [==============================] - 0s 5ms/step - loss: 0.0143 - acc: 1.0000 - val_loss: 0.5648 - val_acc: 0.8000\n",
      "\n",
      "Epoch 00042: val_acc did not improve from 0.86667\n"
     ]
    },
    {
     "name": "stdout",
     "output_type": "stream",
     "text": [
      "\n",
      "Epoch 00042: ReduceLROnPlateau reducing learning rate to 1.0000000553323957e-06.\n",
      "Epoch 43/50\n",
      "57/57 [==============================] - 0s 4ms/step - loss: 0.0189 - acc: 1.0000 - val_loss: 0.5648 - val_acc: 0.8000\n",
      "\n",
      "Epoch 00043: val_acc did not improve from 0.86667\n",
      "Epoch 44/50\n",
      "57/57 [==============================] - 0s 4ms/step - loss: 0.0166 - acc: 1.0000 - val_loss: 0.5651 - val_acc: 0.8000\n",
      "\n",
      "Epoch 00044: val_acc did not improve from 0.86667\n",
      "Epoch 45/50\n",
      "57/57 [==============================] - 0s 4ms/step - loss: 0.0069 - acc: 1.0000 - val_loss: 0.5653 - val_acc: 0.8000\n",
      "\n",
      "Epoch 00045: val_acc did not improve from 0.86667\n",
      "Epoch 46/50\n",
      "57/57 [==============================] - 0s 5ms/step - loss: 0.0131 - acc: 1.0000 - val_loss: 0.5646 - val_acc: 0.8000\n",
      "\n",
      "Epoch 00046: val_acc did not improve from 0.86667\n",
      "Epoch 47/50\n",
      "57/57 [==============================] - 0s 4ms/step - loss: 0.0413 - acc: 0.9825 - val_loss: 0.5641 - val_acc: 0.8000\n",
      "\n",
      "Epoch 00047: val_acc did not improve from 0.86667\n",
      "\n",
      "Epoch 00047: ReduceLROnPlateau reducing learning rate to 5e-07.\n",
      "Epoch 48/50\n",
      "57/57 [==============================] - 0s 4ms/step - loss: 0.0272 - acc: 0.9825 - val_loss: 0.5639 - val_acc: 0.8000\n",
      "\n",
      "Epoch 00048: val_acc did not improve from 0.86667\n",
      "Epoch 49/50\n",
      "57/57 [==============================] - 0s 4ms/step - loss: 0.0211 - acc: 1.0000 - val_loss: 0.5641 - val_acc: 0.8000\n",
      "\n",
      "Epoch 00049: val_acc did not improve from 0.86667\n",
      "Epoch 50/50\n",
      "57/57 [==============================] - 0s 4ms/step - loss: 0.0197 - acc: 1.0000 - val_loss: 0.5636 - val_acc: 0.8000\n",
      "\n",
      "Epoch 00050: val_acc did not improve from 0.86667\n"
     ]
    },
    {
     "data": {
      "text/plain": [
       "<keras.callbacks.History at 0x1c3b636828>"
      ]
     },
     "execution_count": 43,
     "metadata": {},
     "output_type": "execute_result"
    }
   ],
   "source": [
    "model.fit(X_train, X_test, validation_split=0.2, epochs=50, callbacks=callbacks, batch_size=2)"
   ]
  },
  {
   "cell_type": "code",
   "execution_count": 44,
   "metadata": {},
   "outputs": [],
   "source": [
    "z = model.predict(y_train)"
   ]
  },
  {
   "cell_type": "code",
   "execution_count": 45,
   "metadata": {},
   "outputs": [],
   "source": [
    "pred = []\n",
    "for i in z:\n",
    "    if i > 0.5:\n",
    "        pred.append(1)\n",
    "    else:\n",
    "        pred.append(0)"
   ]
  },
  {
   "cell_type": "code",
   "execution_count": 46,
   "metadata": {},
   "outputs": [
    {
     "data": {
      "text/plain": [
       "array([[14,  1],\n",
       "       [ 4, 11]])"
      ]
     },
     "execution_count": 46,
     "metadata": {},
     "output_type": "execute_result"
    }
   ],
   "source": [
    "cm = confusion_matrix(y_test, pred)\n",
    "cm"
   ]
  },
  {
   "cell_type": "code",
   "execution_count": 50,
   "metadata": {},
   "outputs": [
    {
     "data": {
      "text/plain": [
       "<matplotlib.axes._subplots.AxesSubplot at 0x1c3e131940>"
      ]
     },
     "execution_count": 50,
     "metadata": {},
     "output_type": "execute_result"
    },
    {
     "data": {
      "image/png": "[encoded data removed]",
      "text/plain": [
       "<Figure size 432x288 with 2 Axes>"
      ]
     },
     "metadata": {
      "needs_background": "light"
     },
     "output_type": "display_data"
    }
   ],
   "source": [
    "sns.heatmap(cm, annot=True)"
   ]
  },
  {
   "cell_type": "code",
   "execution_count": 52,
   "metadata": {},
   "outputs": [],
   "source": [
    "(tn, fp, fn, tp) = cm.flatten()\n",
    "sensitivity = tp / float(tp + fn)\n",
    "specificity = tn / float(tn + fp)"
   ]
  },
  {
   "cell_type": "code",
   "execution_count": 55,
   "metadata": {},
   "outputs": [
    {
     "name": "stdout",
     "output_type": "stream",
     "text": [
      "0.7333333333333333 0.9333333333333333\n"
     ]
    }
   ],
   "source": [
    "print(sensitivity, specificity)"
   ]
  },
  {
   "cell_type": "code",
   "execution_count": 56,
   "metadata": {},
   "outputs": [
    {
     "name": "stdout",
     "output_type": "stream",
     "text": [
      "Accuracy 0.8333333333333334\n"
     ]
    }
   ],
   "source": [
    "print(\"Accuracy\", (tp+tn)/(tp+tn+fp+fn))"
   ]
  },
  {
   "cell_type": "code",
   "execution_count": null,
   "metadata": {},
   "outputs": [],
   "source": []
  },
  {
   "cell_type": "code",
   "execution_count": null,
   "metadata": {},
   "outputs": [],
   "source": [
    "# Here our model is performing better than all till now. "
   ]
  },
  {
   "cell_type": "markdown",
   "metadata": {},
   "source": [
    "# RESULT\n",
    "So here we got 80% accuracy on our RandomForest + HOG model but only 60% accuracy on MobileNet architect.<br>\n",
    "I tried various other archs to but max i got was 50%.<br>\n",
    "When we tried HOG with Deep learning we got better specificity means We identified few people who have disease as Healthy.\n",
    "\n",
    "So as we can see our Random Forest model gave same output as DL model. Which also sugeests sometimes our old technoques are quite useful and fast too."
   ]
  },
  {
   "cell_type": "code",
   "execution_count": null,
   "metadata": {},
   "outputs": [],
   "source": []
  }
 ],
 "metadata": {
  "kernelspec": {
   "display_name": "Python 3",
   "language": "python",
   "name": "python3"
  },
  "language_info": {
   "codemirror_mode": {
    "name": "ipython",
    "version": 3
   },
   "file_extension": ".py",
   "mimetype": "text/x-python",
   "name": "python",
   "nbconvert_exporter": "python",
   "pygments_lexer": "ipython3",
   "version": "3.7.3"
  }
 },
 "nbformat": 4,
 "nbformat_minor": 2
}
