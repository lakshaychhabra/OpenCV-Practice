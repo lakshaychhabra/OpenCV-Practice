{
 "cells": [
  {
   "cell_type": "markdown",
   "metadata": {},
   "source": [
    "# What is Parkinson Disease\n",
    "Parkinson’s disease is a nervous system disorder that affects movement. If you have seen the movie Love & other drugs then you know something about it. There are various stages in Parkinson Disease. <br>\n",
    "Stage 1: Mild symptoms that do not typically interfere with daily life, including tremors and movement issues on only one side of the body.<br>\n",
    "Stage 2: Symptoms continue to become worse with both tremors and rigidity now affecting both sides of the body. Daily tasks become challenging.<br>\n",
    "Stage 3: Loss of balance and movements with falls becoming frequent and common. The patient is still capable of (typically) living independently.<br>\n",
    "Stage 4: Symptoms become severe and constraining. The patient is unable to live alone and requires help to perform daily activities.<br>\n",
    "Stage 5: Likely impossible to walk or stand. The patient is most likely wheelchair bound and may even experience hallucinations.<br>\n",
    "\n",
    "Detection Parkinson Disease involves analysing the Spiral and Wave pattern drawn by the patients. <br>\n",
    "Dataset : http://www.niats.feelt.ufu.br/en/node/81\n",
    "\n",
    "Spiral: 102 images, 72 training, and 30 testing<br>\n",
    "Wave: 102 images, 72 training, and 30 testing"
   ]
  },
  {
   "cell_type": "code",
   "execution_count": null,
   "metadata": {},
   "outputs": [],
   "source": []
  }
 ],
 "metadata": {
  "kernelspec": {
   "display_name": "Python 3",
   "language": "python",
   "name": "python3"
  },
  "language_info": {
   "codemirror_mode": {
    "name": "ipython",
    "version": 3
   },
   "file_extension": ".py",
   "mimetype": "text/x-python",
   "name": "python",
   "nbconvert_exporter": "python",
   "pygments_lexer": "ipython3",
   "version": "3.7.3"
  }
 },
 "nbformat": 4,
 "nbformat_minor": 2
}
