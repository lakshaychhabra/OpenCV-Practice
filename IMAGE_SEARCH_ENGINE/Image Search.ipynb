{
 "cells": [
  {
   "cell_type": "markdown",
   "metadata": {},
   "source": [
    "# Search Engine\n",
    "\n",
    "CREDS : I hereby thanks pyimagesearch for this awesome tutorial which helped me build this from his blog https://www.pyimagesearch.com/2014/01/27/hobbits-and-histograms-a-how-to-guide-to-building-your-first-image-search-engine-in-python/"
   ]
  },
  {
   "cell_type": "markdown",
   "metadata": {},
   "source": [
    "\n",
    "### The 4 Steps to Building an Image Search Engine\n",
    "On the most basic level, there are four steps to building an image search engine:\n",
    "\n",
    "1. Define your descriptor: What type of descriptor are you going to use? Are you describing color? Texture? Shape?\n",
    "2. Index your dataset: Apply your descriptor to each image in your dataset, extracting a set of features.\n",
    "3. Define your similarity metric: How are you going to define how “similar” two images are? You’ll likely be using some sort of distance metric. Common choices include Euclidean, Cityblock (Manhattan), Cosine, and chi-squared to name a few.\n",
    "4. Searching: To perform a search, apply your descriptor to your query image, and then ask your distance metric to rank how similar your images are in your index to your query images. Sort your results via similarity and then examine them.\n"
   ]
  },
  {
   "cell_type": "code",
   "execution_count": 1,
   "metadata": {},
   "outputs": [],
   "source": [
    "import numpy as np\n",
    "import matplotlib.pyplot as plt\n",
    "import imutils\n",
    "import cv2\n",
    "import os\n",
    "from imutils.paths import list_images\n",
    "import pickle"
   ]
  },
  {
   "cell_type": "code",
   "execution_count": 12,
   "metadata": {},
   "outputs": [],
   "source": [
    "args = {\n",
    "    \"dataset\" : \"dataset/images/\",\n",
    "    \"index\" : \"index.cpickle\",\n",
    "    \"query\" : \"Mordor-001.png\"\n",
    "}"
   ]
  },
  {
   "cell_type": "code",
   "execution_count": 3,
   "metadata": {},
   "outputs": [],
   "source": [
    "class RGBHistogram : \n",
    "    \n",
    "    def __init__ (self,bins) :\n",
    "        self.bins = bins\n",
    "        \n",
    "    def describe(self, image):\n",
    "        # 3d histogram and processing it\n",
    "        hist = cv2.calcHist([image], [0,1,2], None, self.bins, [0,256,0,256,0,256])\n",
    "        # Normalizing it\n",
    "        hist = cv2.normalize(hist, hist)\n",
    "        return hist.flatten()\n",
    "        "
   ]
  },
  {
   "cell_type": "code",
   "execution_count": 4,
   "metadata": {},
   "outputs": [],
   "source": [
    "# Step 2 : Indexing our Dataset\n",
    "# initialize the index dictionary to store our our quantifed\n",
    "# images, with the 'key' of the dictionary being the image\n",
    "# filename and the 'value' our computed features\n",
    "index = {}\n",
    "desc = RGBHistogram([8, 8, 8])"
   ]
  },
  {
   "cell_type": "code",
   "execution_count": 5,
   "metadata": {},
   "outputs": [],
   "source": [
    "for imagepath in list_images(args[\"dataset\"]):\n",
    "#     Extracting image id\n",
    "    k = imagepath[imagepath.rfind(\"/\") + 1 :]\n",
    "    image = cv2.imread(imagepath)\n",
    "    features = desc.describe(image)\n",
    "    index[k] = features\n",
    "    "
   ]
  },
  {
   "cell_type": "code",
   "execution_count": 6,
   "metadata": {},
   "outputs": [
    {
     "name": "stdout",
     "output_type": "stream",
     "text": [
      "Done Indexing 25 Images \n"
     ]
    }
   ],
   "source": [
    "f = open(args[\"index\"], \"wb\")\n",
    "f.write(pickle.dumps(index))\n",
    "f.close()\n",
    "print(\"Done Indexing {} Images \".format(len(index)))"
   ]
  },
  {
   "cell_type": "code",
   "execution_count": 7,
   "metadata": {},
   "outputs": [],
   "source": [
    "# Step 3 : Searching\n",
    "# Search on basis of similarities\n",
    "class Searcher:\n",
    "    \n",
    "    def __init__(self, index):\n",
    "        self.index = index\n",
    "    \n",
    "    def search(self, queryFeatures):\n",
    "        results = {}\n",
    "        for (k,features) in self.index.items():\n",
    "            #We will use chi2Square Distance to compare similarity\n",
    "            d = self.chi2distance(features, queryFeatures)\n",
    "            results[k] = d\n",
    "        # the smaller the chi-squared distance, the relevant/similar\n",
    "        results = sorted([(v,k) for (k,v) in results.items()])\n",
    "        return results\n",
    "    \n",
    "    def chi2distance(self, histA, histB, eps = 1e-10):\n",
    "        d = 0.5 * np.sum([((a-b) ** 2) / (a+b+eps) for (a,b) in zip(histA,histB)])\n",
    "        return d        "
   ]
  },
  {
   "cell_type": "code",
   "execution_count": 8,
   "metadata": {},
   "outputs": [],
   "source": [
    "# Step 4 : Performing Search\n",
    "index = pickle.loads(open(args[\"index\"], \"rb\").read())\n",
    "searcher = Searcher(index)"
   ]
  },
  {
   "cell_type": "code",
   "execution_count": null,
   "metadata": {
    "scrolled": true
   },
   "outputs": [
    {
     "name": "stdout",
     "output_type": "stream",
     "text": [
      "query Dol-Guldur-005.png \n",
      "\t1. Dol-Guldur-005.png : 0.000\n",
      "\t2. Dol-Guldur-001.png : 0.213\n",
      "\t3. Dol-Guldur-003.png : 0.325\n",
      "\t4. Dol-Guldur-004.png : 0.327\n",
      "\t5. Dol-Guldur-002.png : 0.477\n",
      "\t6. Goblin-001.png : 1.001\n",
      "\t7. Golbin-005.png : 1.134\n",
      "\t8. Mordor-005.png : 1.150\n",
      "\t9. Mordor-003.png : 1.194\n",
      "\t10. Goblin-002.png : 1.203\n",
      "query Dol-Guldur-004.png \n",
      "\t1. Dol-Guldur-004.png : 0.000\n",
      "\t2. Dol-Guldur-003.png : 0.042\n",
      "\t3. Dol-Guldur-001.png : 0.285\n",
      "\t4. Dol-Guldur-005.png : 0.327\n",
      "\t5. Dol-Guldur-002.png : 0.534\n",
      "\t6. Goblin-001.png : 0.548\n",
      "\t7. Golbin-005.png : 0.679\n",
      "\t8. Mordor-005.png : 0.732\n",
      "\t9. Goblin-002.png : 0.782\n",
      "\t10. Mordor-003.png : 0.802\n"
     ]
    }
   ],
   "source": [
    "for (query, queryFeatures) in index.items():\n",
    "    results = searcher.search(queryFeatures)\n",
    "    \n",
    "    path = os.path.join(args[\"dataset\"], query)\n",
    "    queryImage = cv2.imread(path)\n",
    "    cv2.imshow(\"Query\", queryImage)\n",
    "    print(\"query {} \".format(query))\n",
    "    \n",
    "    # Display Results in montages\n",
    "    montageA = np.zeros((166*5, 400, 3), dtype = \"uint8\")\n",
    "    montageB = np.zeros((166*5, 400, 3), dtype = \"uint8\")\n",
    "\n",
    "    # Looping over top 10 results\n",
    "    for j in range(0,10):\n",
    "        (score, imageName) = results[j]\n",
    "        path = os.path.join(args[\"dataset\"], imageName)\n",
    "        result = cv2.imread(path)\n",
    "        print(\"\\t{}. {} : {:.3f}\".format(j + 1, imageName, score))\n",
    "        # check to see if the first montage should be used\n",
    "        if j < 5:\n",
    "            montageA[j * 166:(j + 1) * 166, :] = result\n",
    "\n",
    "        # otherwise, the second montage should be used\n",
    "        else:\n",
    "            montageB[(j - 5) * 166:((j - 5) + 1) * 166, :] = result\n",
    "\n",
    "    # show the results\n",
    "    cv2.imshow(\"Results 1-5\", montageA)\n",
    "    cv2.imshow(\"Results 6-10\", montageB)\n",
    "    cv2.waitKey(0)\n",
    "\n"
   ]
  },
  {
   "cell_type": "code",
   "execution_count": null,
   "metadata": {},
   "outputs": [],
   "source": []
  },
  {
   "cell_type": "code",
   "execution_count": null,
   "metadata": {},
   "outputs": [],
   "source": []
  },
  {
   "cell_type": "code",
   "execution_count": null,
   "metadata": {},
   "outputs": [],
   "source": []
  },
  {
   "cell_type": "code",
   "execution_count": null,
   "metadata": {},
   "outputs": [],
   "source": []
  },
  {
   "cell_type": "code",
   "execution_count": null,
   "metadata": {},
   "outputs": [],
   "source": []
  }
 ],
 "metadata": {
  "kernelspec": {
   "display_name": "Python 3",
   "language": "python",
   "name": "python3"
  },
  "language_info": {
   "codemirror_mode": {
    "name": "ipython",
    "version": 3
   },
   "file_extension": ".py",
   "mimetype": "text/x-python",
   "name": "python",
   "nbconvert_exporter": "python",
   "pygments_lexer": "ipython3",
   "version": "3.7.3"
  }
 },
 "nbformat": 4,
 "nbformat_minor": 2
}
